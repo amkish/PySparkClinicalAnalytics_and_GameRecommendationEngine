{
 "cells": [
  {
   "cell_type": "markdown",
   "metadata": {
    "application/vnd.databricks.v1+cell": {
     "cellMetadata": {
      "byteLimit": 2048000,
      "rowLimit": 10000
     },
     "inputWidgets": {},
     "nuid": "40568baa-d782-4d3b-8020-ddb57d11434e",
     "showTitle": false,
     "title": ""
    }
   },
   "source": [
    "# TASK 1\n",
    "\n",
    "##### Using PySpark DataFrame"
   ]
  },
  {
   "cell_type": "markdown",
   "metadata": {
    "application/vnd.databricks.v1+cell": {
     "cellMetadata": {
      "byteLimit": 2048000,
      "rowLimit": 10000
     },
     "inputWidgets": {},
     "nuid": "e1675a77-0ca2-4472-872d-45e83962b448",
     "showTitle": false,
     "title": ""
    }
   },
   "source": [
    "### Loading the Dataset"
   ]
  },
  {
   "cell_type": "code",
   "execution_count": 0,
   "metadata": {
    "application/vnd.databricks.v1+cell": {
     "cellMetadata": {
      "byteLimit": 2048000,
      "rowLimit": 10000
     },
     "inputWidgets": {},
     "nuid": "e5ab6348-b9dd-40f8-809b-19988400c1a2",
     "showTitle": false,
     "title": ""
    }
   },
   "outputs": [
    {
     "output_type": "display_data",
     "data": {
      "application/vnd.databricks.v1+bamboolib_hint": "{\"pd.DataFrames\": [], \"version\": \"0.0.1\"}",
      "text/plain": []
     },
     "metadata": {},
     "output_type": "display_data"
    }
   ],
   "source": [
    "from pyspark.sql import SparkSession\n",
    "from pyspark.sql.types import *\n",
    "from pyspark.sql.functions import col, count, countDistinct, lit, when, lower, desc, month, explode, split, expr, to_date, unix_timestamp, to_date, year, datediff\n",
    "import csv\n",
    "from io import StringIO\n",
    "import matplotlib.pyplot as plt\n",
    "from datetime import datetime\n",
    "import pandas as pd\n",
    "import seaborn as sns\n",
    "import numpy as np\n",
    "import matplotlib.cm as cm"
   ]
  },
  {
   "cell_type": "code",
   "execution_count": 0,
   "metadata": {
    "application/vnd.databricks.v1+cell": {
     "cellMetadata": {
      "byteLimit": 2048000,
      "rowLimit": 10000
     },
     "inputWidgets": {},
     "nuid": "4566b4c9-a46e-4a87-8096-f3b0786eadfe",
     "showTitle": false,
     "title": ""
    }
   },
   "outputs": [
    {
     "output_type": "stream",
     "name": "stdout",
     "output_type": "stream",
     "text": [
      "Out[2]: [FileInfo(path='dbfs:/FileStore/tables/activations/', name='activations/', size=0, modificationTime=0),\n FileInfo(path='dbfs:/FileStore/tables/activations.zip', name='activations.zip', size=8411369, modificationTime=1712156823000),\n FileInfo(path='dbfs:/FileStore/tables/clinicaltrial_2020.csv', name='clinicaltrial_2020.csv', size=46318151, modificationTime=1715218433000),\n FileInfo(path='dbfs:/FileStore/tables/clinicaltrial_2020.zip', name='clinicaltrial_2020.zip', size=10599182, modificationTime=1712694645000),\n FileInfo(path='dbfs:/FileStore/tables/clinicaltrial_2021.csv', name='clinicaltrial_2021.csv', size=50359696, modificationTime=1715218430000),\n FileInfo(path='dbfs:/FileStore/tables/clinicaltrial_2021.zip', name='clinicaltrial_2021.zip', size=11508457, modificationTime=1712694645000),\n FileInfo(path='dbfs:/FileStore/tables/clinicaltrial_2023.csv', name='clinicaltrial_2023.csv', size=292436366, modificationTime=1715218424000),\n FileInfo(path='dbfs:/FileStore/tables/clinicaltrial_2023.zip', name='clinicaltrial_2023.zip', size=57166668, modificationTime=1712155087000),\n FileInfo(path='dbfs:/FileStore/tables/completed_studies_2023.csv/', name='completed_studies_2023.csv/', size=0, modificationTime=0),\n FileInfo(path='dbfs:/FileStore/tables/completed_studies_2023_result.csv/', name='completed_studies_2023_result.csv/', size=0, modificationTime=0),\n FileInfo(path='dbfs:/FileStore/tables/pharma.csv', name='pharma.csv', size=678999, modificationTime=1715218434000),\n FileInfo(path='dbfs:/FileStore/tables/pharma.zip', name='pharma.zip', size=109982, modificationTime=1712155077000),\n FileInfo(path='dbfs:/FileStore/tables/steam_200k.csv', name='steam_200k.csv', size=8059447, modificationTime=1712594900000),\n FileInfo(path='dbfs:/FileStore/tables/test.json', name='test.json', size=17958, modificationTime=1707932853000)]"
     ]
    }
   ],
   "source": [
    "%python\n",
    "dbutils.fs.ls(\"/FileStore/tables/\")"
   ]
  },
  {
   "cell_type": "code",
   "execution_count": 0,
   "metadata": {
    "application/vnd.databricks.v1+cell": {
     "cellMetadata": {
      "byteLimit": 2048000,
      "rowLimit": 10000
     },
     "inputWidgets": {},
     "nuid": "051c0132-f8a6-4cfe-87db-ef348947a420",
     "showTitle": false,
     "title": ""
    }
   },
   "outputs": [],
   "source": [
    "# Initialize SparkSession\n",
    "spark = SparkSession.builder \\\n",
    "    .appName(\"Clinical Trials Analysis with DataFrames\") \\\n",
    "    .getOrCreate()\n",
    "\n",
    "# Access SparkContext\n",
    "sc = spark.sparkContext"
   ]
  },
  {
   "cell_type": "code",
   "execution_count": 0,
   "metadata": {
    "application/vnd.databricks.v1+cell": {
     "cellMetadata": {
      "byteLimit": 2048000,
      "rowLimit": 10000
     },
     "inputWidgets": {},
     "nuid": "36654dea-f994-4c2d-bbc4-a35b71b5f5d8",
     "showTitle": false,
     "title": ""
    }
   },
   "outputs": [],
   "source": [
    "# Defining the Clinicaltrial schema\n",
    "Clinical_Schema = StructType([\n",
    "    StructField(\"Id\", StringType(), True),\n",
    "    StructField(\"Study Title\", StringType(), True),\n",
    "    StructField(\"Acronym\", StringType(), True),\n",
    "    StructField(\"Status\", StringType(), True),\n",
    "    StructField(\"Conditions\", StringType(), True),\n",
    "    StructField(\"Interventions\", StringType(), True),\n",
    "    StructField(\"Sponsor\", StringType(), True),\n",
    "    StructField(\"Collaborators\", StringType(), True),\n",
    "    StructField(\"Enrollment\", StringType(), True),\n",
    "    StructField(\"Funder Type\", StringType(), True),\n",
    "    StructField(\"Type\", StringType(), True),\n",
    "    StructField(\"Study Design\", StringType(), True),\n",
    "    StructField(\"Start\", StringType(), True),\n",
    "    StructField(\"Completion\", StringType(), True)])\n",
    "\n",
    "# Load the RDD from text file\n",
    "Clinical_rdd = sc.textFile(\"/FileStore/tables/clinicaltrial_2023.csv\")"
   ]
  },
  {
   "cell_type": "code",
   "execution_count": 0,
   "metadata": {
    "application/vnd.databricks.v1+cell": {
     "cellMetadata": {
      "byteLimit": 2048000,
      "rowLimit": 10000
     },
     "inputWidgets": {},
     "nuid": "7e80b101-8d66-4a0a-b602-bd58a6c70868",
     "showTitle": false,
     "title": ""
    }
   },
   "outputs": [],
   "source": [
    "%python\n",
    "# Defining the Pharma schema\n",
    "Pharma_Schema = StructType([\n",
    "    StructField(\"Company\", StringType(), True),\n",
    "    StructField(\"Parent_Company\", StringType(), True),\n",
    "    StructField(\"Penalty_Amount\", StringType(), True), \n",
    "    StructField(\"Subtraction_From_Penalty\", StringType(), True),\n",
    "    StructField(\"Penalty_Amount_Adjusted_For_Eliminating_Multiple_Counting\", StringType(), True),\n",
    "    StructField(\"Penalty_Year\", StringType(), True),\n",
    "    StructField(\"Penalty_Date\", StringType(), True), \n",
    "    StructField(\"Offense_Group\", StringType(), True),\n",
    "    StructField(\"Primary_Offense\", StringType(), True),\n",
    "    StructField(\"Secondary_Offense\", StringType(), True),\n",
    "    StructField(\"Description\", StringType(), True),\n",
    "    StructField(\"Level_of_Government\", StringType(), True),\n",
    "    StructField(\"Action_Type\", StringType(), True),\n",
    "    StructField(\"Agency\", StringType(), True),\n",
    "    StructField(\"Civil/Criminal\", StringType(), True),\n",
    "    StructField(\"Prosecution_Agreement\", StringType(), True),\n",
    "    StructField(\"Court\", StringType(), True),\n",
    "    StructField(\"Case_ID\", StringType(), True),\n",
    "    StructField(\"Private_Litigation_Case_Title\", StringType(), True),\n",
    "    StructField(\"Lawsuit_Resolution\", StringType(), True),\n",
    "    StructField(\"Facility_State\", StringType(), True),\n",
    "    StructField(\"City\", StringType(), True),\n",
    "    StructField(\"Address\", StringType(), True),\n",
    "    StructField(\"Zip\", StringType(), True),\n",
    "    StructField(\"NAICS_Code\", StringType(), True),\n",
    "    StructField(\"NAICS_Translation\", StringType(), True),\n",
    "    StructField(\"HQ_Country_of_Parent\", StringType(), True),\n",
    "    StructField(\"HQ_State_of_Parent\", StringType(), True),\n",
    "    StructField(\"Ownership_Structure\", StringType(), True),\n",
    "    StructField(\"Parent_Company_Stock_Ticker\", StringType(), True),\n",
    "    StructField(\"Major_Industry_of_Parent\", StringType(), True),\n",
    "    StructField(\"Specific_Industry_of_Parent\", StringType(), True),\n",
    "    StructField(\"Info_Source\", StringType(), True),\n",
    "    StructField(\"Notes\", StringType(), True)\n",
    "])\n",
    "\n",
    "# Load the RDD from text file\n",
    "Pharma_rdd = sc.textFile(\"/FileStore/tables/pharma.csv\")"
   ]
  },
  {
   "cell_type": "markdown",
   "metadata": {
    "application/vnd.databricks.v1+cell": {
     "cellMetadata": {
      "byteLimit": 2048000,
      "rowLimit": 10000
     },
     "inputWidgets": {},
     "nuid": "0d09b9b7-4a44-45bd-90f1-ac4dde82aa32",
     "showTitle": false,
     "title": ""
    }
   },
   "source": [
    "### Cleaning the data"
   ]
  },
  {
   "cell_type": "code",
   "execution_count": 0,
   "metadata": {
    "application/vnd.databricks.v1+cell": {
     "cellMetadata": {
      "byteLimit": 2048000,
      "rowLimit": 10000
     },
     "inputWidgets": {},
     "nuid": "efa35484-9a18-4cfc-8999-71d974ffe6b3",
     "showTitle": false,
     "title": ""
    }
   },
   "outputs": [
    {
     "output_type": "stream",
     "name": "stdout",
     "output_type": "stream",
     "text": [
      "+-----------+--------------------+----------+------------------+--------------------+--------------------+--------------------+--------------------+----------+-----------+--------------+--------------------+----------+----------+\n|         Id|         Study Title|   Acronym|            Status|          Conditions|       Interventions|             Sponsor|       Collaborators|Enrollment|Funder Type|          Type|        Study Design|     Start|Completion|\n+-----------+--------------------+----------+------------------+--------------------+--------------------+--------------------+--------------------+----------+-----------+--------------+--------------------+----------+----------+\n|NCT03630471|Effectiveness of ...|     PRIDE|         COMPLETED|Mental Health Iss...|BEHAVIORAL: PRIDE...|             Sangath|Harvard Medical S...|     250.0|      OTHER|INTERVENTIONAL|Allocation: RANDO...|2018-08-20|2019-02-28|\n|NCT05992571|Oral Ketone Monoe...|        NA|        RECRUITING|Cerebrovascular F...|OTHER: Placebo|DI...| McMaster University|Alzheimer's Socie...|      30.0|      OTHER|INTERVENTIONAL|Allocation: RANDO...|2023-10-25|   2024-08|\n|NCT00237471|Impact of Tight G...|        NA|        TERMINATED|Myocardial Infarc...|DRUG: Insulin (ti...|    Melbourne Health|National Health a...|      40.0|      OTHER|INTERVENTIONAL|Allocation: RANDO...|   2005-10|   2006-05|\n|NCT03820271|New Prognostic Pr...| SUPERMELD|        RECRUITING|Decompensated Cir...|    OTHER: SuperMELD|Assistance Publiq...|                  NA|     500.0|      OTHER|INTERVENTIONAL|Allocation: NA|In...|2020-10-01|2023-10-01|\n|NCT06229171|InTake Care: Deve...|InTakeCare|NOT_YET_RECRUITING|Hypertension|Trea...|OTHER: adherence ...|Istituto Auxologi...|Istituti Clinici ...|     206.0|      OTHER|INTERVENTIONAL|Allocation: RANDO...|2024-10-01|2026-04-01|\n+-----------+--------------------+----------+------------------+--------------------+--------------------+--------------------+--------------------+----------+-----------+--------------+--------------------+----------+----------+\nonly showing top 5 rows\n\n"
     ]
    }
   ],
   "source": [
    "%python\n",
    "# Cleaning Clinicaltrial_2023\n",
    "# Removing commas, double quotes and splitting the data\n",
    "Cleaned_Clinical_rdd = Clinical_rdd.map(lambda line: line.replace(',,', ',').replace('\"', ''))\\\n",
    "                                   .map(lambda x: x.split('\\t'))\\\n",
    "                                   .map(lambda row: row[:-1] + [row[-1].split(',')[0]] if row[-1] else row)  \n",
    "\n",
    "# Replace missing or empty values with 'NA', ensuring the row length matches the schema\n",
    "Cleaned_Clinical_rdd = Cleaned_Clinical_rdd.map(lambda row: ['NA' if not value else value for value in row])\\\n",
    "                                           .map(lambda row: row if len(row) == len(Clinical_Schema.fields) else row + ['NA'] * (len(Clinical_Schema.fields) - len(row)))\n",
    "\n",
    "\n",
    "# Retrieving and Filtering out the header\n",
    "header_Clinical_rdd = Cleaned_Clinical_rdd.first() \n",
    "Cleaned_Clinical_rdd = Cleaned_Clinical_rdd.filter(lambda row: row != header_Clinical_rdd)  \n",
    "\n",
    "# Create DataFrame\n",
    "Cleaned_Clinical_df = spark.createDataFrame(Cleaned_Clinical_rdd, Clinical_Schema)  \n",
    "\n",
    "# View results\n",
    "Cleaned_Clinical_df.show(5)\n"
   ]
  },
  {
   "cell_type": "code",
   "execution_count": 0,
   "metadata": {
    "application/vnd.databricks.v1+cell": {
     "cellMetadata": {
      "byteLimit": 2048000,
      "rowLimit": 10000
     },
     "inputWidgets": {},
     "nuid": "a3bc8f35-8975-4dac-82d6-0664ccbf4866",
     "showTitle": false,
     "title": ""
    }
   },
   "outputs": [
    {
     "output_type": "stream",
     "name": "stdout",
     "output_type": "stream",
     "text": [
      "+--------------------+-------------------+--------------+------------------------+---------------------------------------------------------+------------+------------+--------------------+--------------------+--------------------+--------------------+-------------------+-------------+--------------------+------------------+---------------------+-----+-------+-----------------------------+------------------+--------------+--------+-------+---+----------+--------------------+--------------------+------------------+-------------------+---------------------------+------------------------+---------------------------+--------------------+--------------------+\n|             Company|     Parent_Company|Penalty_Amount|Subtraction_From_Penalty|Penalty_Amount_Adjusted_For_Eliminating_Multiple_Counting|Penalty_Year|Penalty_Date|       Offense_Group|     Primary_Offense|   Secondary_Offense|         Description|Level_of_Government|  Action_Type|              Agency|    Civil/Criminal|Prosecution_Agreement|Court|Case_ID|Private_Litigation_Case_Title|Lawsuit_Resolution|Facility_State|    City|Address|Zip|NAICS_Code|   NAICS_Translation|HQ_Country_of_Parent|HQ_State_of_Parent|Ownership_Structure|Parent_Company_Stock_Ticker|Major_Industry_of_Parent|Specific_Industry_of_Parent|         Info_Source|               Notes|\n+--------------------+-------------------+--------------+------------------------+---------------------------------------------------------+------------+------------+--------------------+--------------------+--------------------+--------------------+-------------------+-------------+--------------------+------------------+---------------------+-----+-------+-----------------------------+------------------+--------------+--------+-------+---+----------+--------------------+--------------------+------------------+-------------------+---------------------------+------------------------+---------------------------+--------------------+--------------------+\n| Abbott Laboratories|Abbott Laboratories|    $5,475,000|                      $0|                                               $5,475,000|        2013|    20131227|government-contra...|False Claims Act ...|kickbacks and bri...|Abbott Laboratori...|            federal|agency action|Justice Departmen...|             civil|                   NA|   NA|     NA|                           NA|                NA|            NA|      NA|     NA| NA|        NA|                  NA|                 USA|          Illinois|    publicly traded|                        ABT|         pharmaceuticals|            pharmaceuticals|https://www.justi...|                  NA|\n|Abbott Laboratori...|             AbbVie|$1,500,000,000|                      $0|                                           $1,500,000,000|        2012|    20120507|healthcare-relate...|off-label or unap...|                  NA|Global Health Car...|            federal|agency action|Food and Drug Adm...|civil and criminal|                   NA|   NA|     NA|                           NA|                NA|            NA|      NA|     NA| NA|        NA|                  NA|                 USA|          Illinois|    publicly traded|                       ABBV|         pharmaceuticals|            pharmaceuticals|http://www.justic...|                  NA|\n|Abbott Laboratori...|             AbbVie|  $126,500,000|                      $0|                                             $126,500,000|        2010|    20101207|government-contra...|False Claims Act ...|                  NA|Abbott Laboratori...|            federal|agency action|Justice Departmen...|             civil|                   NA|   NA|     NA|                           NA|                NA|            NA|      NA|     NA| NA|        NA|                  NA|                 USA|          Illinois|    publicly traded|                       ABBV|         pharmaceuticals|            pharmaceuticals|https://www.justi...|                  NA|\n|Abbott Laboratori...|Abbott Laboratories|       $49,045|                      $0|                                                  $49,045|        2009|    20090305|employment-relate...|wage and hour vio...|Fair Labor Standa...|                  NA|            federal|agency action|Labor Department ...|             civil|                   NA|   NA|1527129|                           NA|                NA|   Puerto Rico|San Juan|     NA| NA|    423450|423450: Medical, ...|                 USA|          Illinois|    publicly traded|                        ABT|         pharmaceuticals|            pharmaceuticals|March 7, 2017 dow...|Date and year are...|\n|      Acclarent Inc.|  Johnson & Johnson|   $18,000,000|                      $0|                                              $18,000,000|        2016|    20160722|government-contra...|False Claims Act ...|                  NA|California-based ...|            federal|agency action|Justice Departmen...|             civil|                   NA|   NA|     NA|                           NA|                NA|            NA|      NA|     NA| NA|        NA|                  NA|                 USA|        New Jersey|    publicly traded|                        JNJ|         pharmaceuticals|            pharmaceuticals|https://www.justi...|                  NA|\n+--------------------+-------------------+--------------+------------------------+---------------------------------------------------------+------------+------------+--------------------+--------------------+--------------------+--------------------+-------------------+-------------+--------------------+------------------+---------------------+-----+-------+-----------------------------+------------------+--------------+--------+-------+---+----------+--------------------+--------------------+------------------+-------------------+---------------------------+------------------------+---------------------------+--------------------+--------------------+\nonly showing top 5 rows\n\n"
     ]
    }
   ],
   "source": [
    "%python\n",
    "\n",
    "# Cleaning Pharma\n",
    "# Removing all double quotation marks from each line and handling parsing\n",
    "Cleaned_Pharma_rdd = Pharma_rdd.map(lambda line: next(csv.reader(StringIO(line), delimiter=',')))\n",
    "\n",
    "# Replace missing values with 'NA' for each row\n",
    "Cleaned_Pharma_rdd = Cleaned_Pharma_rdd.map(lambda row: ['NA' if not value else value for value in row])\n",
    "\n",
    "# Ensuring each row has exactly the number of fields as in Pharma_Schema\n",
    "Cleaned_Pharma_rdd = Cleaned_Pharma_rdd.map(lambda row: row if len(row) == len(Pharma_Schema.fields) else row + ['NA'] * (len(Pharma_Schema.fields) - len(row)))\n",
    "\n",
    "# Retrieving and Filtering out the header row\n",
    "header_Pharma_rdd = Cleaned_Pharma_rdd.first()\n",
    "\n",
    "Cleaned_Pharma_rdd = Cleaned_Pharma_rdd.filter(lambda row: row != header_Pharma_rdd)\n",
    "\n",
    "# Since there's no mention of a header to be removed for Pharma_rdd, we proceed directly to DataFrame creation\n",
    "Cleaned_Pharma_df = spark.createDataFrame(Cleaned_Pharma_rdd, Pharma_Schema)\n",
    "\n",
    "# Show the result to verify\n",
    "Cleaned_Pharma_df.show(5)"
   ]
  },
  {
   "cell_type": "markdown",
   "metadata": {
    "application/vnd.databricks.v1+cell": {
     "cellMetadata": {
      "byteLimit": 2048000,
      "rowLimit": 10000
     },
     "inputWidgets": {},
     "nuid": "2f893de3-c816-48d5-8904-406b4d1a2c41",
     "showTitle": false,
     "title": ""
    }
   },
   "source": [
    "### Questions\n",
    "\n"
   ]
  },
  {
   "cell_type": "markdown",
   "metadata": {
    "application/vnd.databricks.v1+cell": {
     "cellMetadata": {
      "byteLimit": 2048000,
      "rowLimit": 10000
     },
     "inputWidgets": {},
     "nuid": "624f39c1-50cd-4feb-94b9-4515ac159e55",
     "showTitle": false,
     "title": ""
    }
   },
   "source": [
    "### No. 1"
   ]
  },
  {
   "cell_type": "code",
   "execution_count": 0,
   "metadata": {
    "application/vnd.databricks.v1+cell": {
     "cellMetadata": {
      "byteLimit": 2048000,
      "rowLimit": 10000
     },
     "inputWidgets": {},
     "nuid": "a245f390-4ab7-4a74-8d97-b192e6020390",
     "showTitle": false,
     "title": ""
    }
   },
   "outputs": [
    {
     "output_type": "stream",
     "name": "stdout",
     "output_type": "stream",
     "text": [
      "+----------------+\n|Distinct Studies|\n+----------------+\n|          483422|\n+----------------+\n\n"
     ]
    }
   ],
   "source": [
    "distinct_studies = Cleaned_Clinical_df.select(countDistinct(\"Id\").alias(\"Distinct Studies\"))\n",
    "distinct_studies.show()"
   ]
  },
  {
   "cell_type": "markdown",
   "metadata": {
    "application/vnd.databricks.v1+cell": {
     "cellMetadata": {
      "byteLimit": 2048000,
      "rowLimit": 10000
     },
     "inputWidgets": {},
     "nuid": "e523157c-350c-469c-ad6f-350236fcdaa0",
     "showTitle": false,
     "title": ""
    }
   },
   "source": [
    "### No. 2"
   ]
  },
  {
   "cell_type": "code",
   "execution_count": 0,
   "metadata": {
    "application/vnd.databricks.v1+cell": {
     "cellMetadata": {
      "byteLimit": 2048000,
      "rowLimit": 10000
     },
     "inputWidgets": {},
     "nuid": "e72c134e-6ab6-41ce-98c1-2d32bba554fa",
     "showTitle": false,
     "title": ""
    }
   },
   "outputs": [
    {
     "output_type": "stream",
     "name": "stdout",
     "output_type": "stream",
     "text": [
      "+---------------+------+\n|           Type| count|\n+---------------+------+\n| INTERVENTIONAL|371382|\n|  OBSERVATIONAL|110221|\n|EXPANDED_ACCESS|   928|\n|             NA|   891|\n+---------------+------+\n\n"
     ]
    }
   ],
   "source": [
    "from pyspark.sql.functions import col, desc\n",
    "\n",
    "study_types_frequency = Cleaned_Clinical_df.groupBy(\"Type\").count().orderBy(desc(\"count\"))\n",
    "study_types_frequency.show()\n"
   ]
  },
  {
   "cell_type": "markdown",
   "metadata": {
    "application/vnd.databricks.v1+cell": {
     "cellMetadata": {
      "byteLimit": 2048000,
      "rowLimit": 10000
     },
     "inputWidgets": {},
     "nuid": "aecba89b-41cf-40ec-8ee5-37b9265368a3",
     "showTitle": false,
     "title": ""
    }
   },
   "source": [
    "### No. 3"
   ]
  },
  {
   "cell_type": "code",
   "execution_count": 0,
   "metadata": {
    "application/vnd.databricks.v1+cell": {
     "cellMetadata": {
      "byteLimit": 2048000,
      "rowLimit": 10000
     },
     "inputWidgets": {},
     "nuid": "eefc27ac-b87b-488e-866e-d4793b0c7630",
     "showTitle": false,
     "title": ""
    }
   },
   "outputs": [
    {
     "output_type": "stream",
     "name": "stdout",
     "output_type": "stream",
     "text": [
      "+---------------+-----+\n|     Conditions|count|\n+---------------+-----+\n|        Healthy| 7997|\n|  Breast Cancer| 4556|\n|Prostate Cancer| 2650|\n|         Asthma| 2309|\n|        Obesity| 2284|\n+---------------+-----+\n\n"
     ]
    }
   ],
   "source": [
    "top_5_conditions = Cleaned_Clinical_df.groupBy(\"Conditions\").count().orderBy(desc(\"count\")).limit(5)\n",
    "top_5_conditions.show()"
   ]
  },
  {
   "cell_type": "markdown",
   "metadata": {
    "application/vnd.databricks.v1+cell": {
     "cellMetadata": {
      "byteLimit": 2048000,
      "rowLimit": 10000
     },
     "inputWidgets": {},
     "nuid": "1dd27e1d-0919-4393-9cbb-60a3a6f0f8ae",
     "showTitle": false,
     "title": ""
    }
   },
   "source": [
    "### No. 4"
   ]
  },
  {
   "cell_type": "code",
   "execution_count": 0,
   "metadata": {
    "application/vnd.databricks.v1+cell": {
     "cellMetadata": {
      "byteLimit": 2048000,
      "rowLimit": 10000
     },
     "inputWidgets": {},
     "nuid": "a8b6d680-210d-41d9-a3e4-1a35e516d57a",
     "showTitle": false,
     "title": ""
    }
   },
   "outputs": [
    {
     "output_type": "stream",
     "name": "stdout",
     "output_type": "stream",
     "text": [
      "+--------------------+-----+\n|             Sponsor|count|\n+--------------------+-----+\n|National Cancer I...| 3410|\n|   Assiut University| 3335|\n|    Cairo University| 3023|\n|Assistance Publiq...| 2951|\n|         Mayo Clinic| 2766|\n|M.D. Anderson Can...| 2702|\n|Novartis Pharmace...| 2393|\n|National Institut...| 2340|\n|Massachusetts Gen...| 2263|\n|National Taiwan U...| 2181|\n+--------------------+-----+\n\n"
     ]
    }
   ],
   "source": [
    "# Ensure case-insensitive comparison by converting relevant columns to lowercase\n",
    "clinical_lower = Cleaned_Clinical_df.withColumn(\"Sponsor_lower\", lower(col(\"Sponsor\")))\n",
    "pharma_lower = Cleaned_Pharma_df.select(lower(col(\"Parent_Company\")).alias(\"Parent_Company_lower\")).distinct()\n",
    "\n",
    "# Perform a left anti join to find sponsors in clinical_lower not present in pharma_lower\n",
    "non_pharma_sponsors = clinical_lower.join(pharma_lower, clinical_lower.Sponsor_lower == pharma_lower.Parent_Company_lower, \"left_anti\")\n",
    "\n",
    "# Group by the original Sponsor column (not the lowercase version), count, and order by count descending\n",
    "top_10_non_pharma_sponsors = non_pharma_sponsors.groupBy(\"Sponsor\").count().orderBy(desc(\"count\")).limit(10)\n",
    "\n",
    "top_10_non_pharma_sponsors.show()"
   ]
  },
  {
   "cell_type": "markdown",
   "metadata": {
    "application/vnd.databricks.v1+cell": {
     "cellMetadata": {
      "byteLimit": 2048000,
      "rowLimit": 10000
     },
     "inputWidgets": {},
     "nuid": "3e3967ec-1957-42ca-ad0a-0cee12f486b6",
     "showTitle": false,
     "title": ""
    }
   },
   "source": [
    "### No. 5"
   ]
  },
  {
   "cell_type": "code",
   "execution_count": 0,
   "metadata": {
    "application/vnd.databricks.v1+cell": {
     "cellMetadata": {
      "byteLimit": 2048000,
      "rowLimit": 10000
     },
     "collapsed": true,
     "inputWidgets": {},
     "nuid": "e5ebab2e-9ccc-4857-ab4e-a37134cf8f50",
     "showTitle": false,
     "title": ""
    }
   },
   "outputs": [
    {
     "output_type": "display_data",
     "data": {
      "image/png": "[encoded data removed]"
     },
     "metadata": {
      "application/vnd.databricks.v1+output": {
       "addedWidgets": {},
       "arguments": {},
       "data": "data:image/png;base64,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\n",
       "datasetInfos": [],
       "metadata": {},
       "removedWidgets": [],
       "type": "image"
      }
     },
     "output_type": "display_data"
    }
   ],
   "source": [
    "# Filter for completed studies in 2023\n",
    "completed_studies_2023 = Cleaned_Clinical_df.filter((col(\"Status\") == \"COMPLETED\") & (year(col(\"Completion\")) == 2023))\n",
    "\n",
    "# Count studies by month\n",
    "monthly_counts = completed_studies_2023.groupBy(month(\"Completion\").alias(\"Month\")).count().orderBy(\"Month\")\n",
    "\n",
    "# Collect data for plotting\n",
    "monthly_data = monthly_counts.collect()\n",
    "\n",
    "# Plot\n",
    "months = [row['Month'] for row in monthly_data]\n",
    "counts = [row['count'] for row in monthly_data]\n",
    "plt.figure(figsize=(10, 6))\n",
    "plt.bar(months, counts, color='skyblue')\n",
    "plt.xlabel('Month')\n",
    "plt.ylabel('Number of Completed Studies')\n",
    "plt.title('Completed Studies per Month in 2023')\n",
    "plt.xticks(months)\n",
    "plt.show()"
   ]
  },
  {
   "cell_type": "code",
   "execution_count": 0,
   "metadata": {
    "application/vnd.databricks.v1+cell": {
     "cellMetadata": {
      "byteLimit": 2048000,
      "rowLimit": 10000
     },
     "inputWidgets": {},
     "nuid": "a955786f-98ab-43d9-b4a3-f4cec9b80d1e",
     "showTitle": false,
     "title": ""
    }
   },
   "outputs": [
    {
     "output_type": "display_data",
     "data": {
      "image/png": "[encoded data removed]"
     },
     "metadata": {
      "application/vnd.databricks.v1+output": {
       "addedWidgets": {},
       "arguments": {},
       "data": "data:image/png;base64,iVBORw0KGgoAAAANSUhEUgAAAlUAAAGDCAYAAAACieUdAAAAOXRFWHRTb2Z0d2FyZQBNYXRwbG90bGliIHZlcnNpb24zLjUuMSwgaHR0cHM6Ly9tYXRwbG90bGliLm9yZy/YYfK9AAAACXBIWXMAAAsTAAALEwEAmpwYAAA630lEQVR4nO3deZwdVbnu8d+TMCMYQgJiAiZCjgocQYwMylEUhQSQKE4gSkA8eK6geOWqgGhwwIPirIBGiQTlEBFBo0QhIIN6ZAgzYZCWwSQMSQgCEgVD3vtHrQ3VO713167eU+88Xz/16dqrVtV6u7pNv6y1apUiAjMzMzMbmhGdDsDMzMysFzipMjMzM2sCJ1VmZmZmTeCkyszMzKwJnFSZmZmZNYGTKjMzM7MmcFJlNgBJ90t6c5vaulLSB9vR1gBtHy7pD7nPf5f00k7EMpxI2kvS4gbq/0bS9FbGZGad56TKuoqk90pakP64P5T+GO3Z6bhqkTRBUkhap0XXHyVplqSHJT0p6c+Sjs8dD0nbNau9iHhBRNzbrOu1Wu7+31RVPkbSM5Lub1I7Q7rPETE1ImaXaHd9SWdJeiD9/G+WNLWqzt6S7pK0UtIVkl6SO/ZVSfekc++SdFju2BhJf5T0qKS/SfqTpNeV/R7NzEmVdRFJHwe+CXwJ2BLYBjgDmNbBsDrtG8ALgFcALwQOBPo6GlGHDJK4biRpx9zn9wL3tTikdlgHWAS8geznfxJwvqQJkCVGwIXAZ4DRwALgp7nznwLems6dDnxL0mvTsb8DHwDGApsBXwZ+1ar/QDBbGzipsq4g6YXA54GjI+LCiHgqIv4VEb+KiE+kOutL+qakB9P2TUnrp2N7SVos6ZOSlqZerrdJ2i/17qyQdGKuvZMlXSDpp+m/4m+UtFON2EZIOl7SX9J/1Z8vaXQ6fHX6+rfUu7ZHOucDku6U9JikS6p6D96Seg0el/RdQHVuzWuA/4mIxyJidUTcFREXpOtU2r4ltf2e6uG8VO+5XhZJm0uaK+kJSdcB29apu37q6firpEckfU/ShunYGEm/Tj0cKyT9XtKA/56ka35U0r2Slks6LV93kHsVko6WdA9wT5379GOypKHiMOCcqjheoWyo9W+SFko6MHfsbEmnS7o4/T5cK2nbWvc5d95xud+3I2oFp9wQb+VnlO7tY5LuU1XvU0X6/8HJEXF/+vn/mixZfHWqchCwMCJ+FhH/BE4GdpL08nT+jPQ7szoirgV+D+yRjv0zIu6OiNVkv4PPkiVXozGzUpxUWbfYA9gAuKhOnU8DuwM7AzsBu5L9l3vFi9I1xgGfBX4AvI/sD9B/AJ+RNDFXfxrwM7I/Iv8D/ELSugO0+xHgbWS9BS8GHgNOT8den76OSkNnf5I0DTiR7A/eWLI/ZOdBv56Fk4AxwF+AekMu1wCnSDpC0qT8gYiotL1Tavuna56+htOBfwJbkfVSfKBO3VOBfyO739vx/H0FOA5YnL6/Lcm+33rvvHo7MBnYhey+fwCg3r3KeRuwG7B9nev/BDhY0khJ25P17l1bOZh+rr8CLgW2IPuZnivpZblrHAx8jiyx6ANOgbr3+UVkPUDjgCOB0yVtVifGvN2Au8l+B74CnCWpXnJd+T62JPuZLExFOwC3VI5HxFNkv1M7DHDuhmRJ+sKq8lvJfifmAj+MiKUFvwczqxYR3rx1fAMOBR4epM5fgP1yn/cF7k/7ewH/AEamz5uQ/ZHfLVf/BuBtaf9k4JrcsRHAQ8B/pM/3A29O+3cCe+fqbgX8i2xoZkJqZ53c8d8AR1ZdeyXwErIelHy7IktOPljje96QLOm4IbXZB0zNHQ9gu9znw4E/VF0jyJKikekaL88d+1K+fq6uyIaOts0d2wO4L+1/Hvhlvu06P7cApuQ+fxi4fLB7lTv3TXWu/dz9By5LvxOnkiXgb879fvwH8DAwInfuecDJaf9ssoSicmw/4K4697ny+5b/uS8Fdq8R55WVn3H6GfXljm2Urv+iQe7juul7/H6u7Czg1Kp6fwQOH+D82cBvAQ1wbAPgEGB6s/+/7c3b2rS5p8q6xaPAmEHmc7wYeCD3+YFU9tw1IuLZtP+P9PWR3PF/kPVgVCyq7EQ2BLK46noVLwEuSsNGfyNLsp4l66EZyEvI5q5U6q8gS1LGpevn243852oR8Y+I+FJEvBrYHDgf+Flu+LERY3l+jk7FA3XqbgTckPs+fpvKAU4jS/AuTcN6xw98medUt1m5z/Xu1UDn1nMOWcJyCNlwYN6LgUXp55yPI9/Ow7n9lfT/XRnIoxGxqsFz1mgrIlam3ZrnpuHSHwPPAMfkDv0d2LSq+qbAk1XnnwbsCLw7/c71E9lQ4HnA8bWGwc1scE6qrFv8CXiabKinlgfJ/ghXbJPKytq6spP+aI2vcb1FZL1Do3LbBhGxhIGHvBYBH6qqv2FE/C9Zb1i+XeU/1xMRT5D1LG0MTKxR7SmyZKhy/Rflji0DVlW1t02N6ywnS0J3yH0PL4yIF6RYnoyI4yLipWST5z8uae864Ve3WbnP9e7Vc996nevm/RzYH7g3Iv5adexBYOuqeV/bAEsKXrtj0u/IWWRJ/Dsi4l+5wwvJhsIrdTcmmye3MFf2OWAqsE/6HapnXcBLapiV5KTKukJEPE42X+d0ZRPMN5K0rqSpkr6Sqp0HnCRpbJqb9FmyuTRlvVrSQal37GNkSd01A9T7Htm8ppcApPYrTyQuA1bT/w/R94ATJO2Q6r9Q0rvSsYuBHXLtfpRsbs6AJH1G0mskrSdpA+BY4G9k83Eg64nLt31Luv7Oqf7JlQOpF+9C4OR0f7en/+RucnVXk81J+4akLVIs4yTtm/YPkLRd+oP/OFnP3eqBrpV8QtJmkrZO30NlXlK9e9WQyOYTvQkYaM2va8l6kj6Zfq/2Insqbk7By1ff53Y6k+zpz7dGxD+qjl0E7CjpHenn/Vng1oi4C0DSCWRPQr45Ih7Nnyhpd0l7pt+tDSV9iixxuxYzK8VJlXWNiPga8HGySdzLyHoxjgF+kap8keyR8VuB24AbU1lZvwTeQzbx/P3AQVW9ABXfIpvEe6mkJ8kSr91SzCvJJjT/MQ1h7R4RF5E9nj5H0hPA7WQ9BUTEcuBdZPN+HgUmkc2BqSWAH5H1HD0IvAXYPyL+no6fDMxObb87Iv5MNt/pMrKn5f5Qdb1jyIaZHiabR/SjOm1/imyI75r0fVwGVCZ2T0qf/07Wy3hGRFxR51q/JJsXdjNZYnkWQL17VUZELIiIvwxQ/gxZEjWV7F6eARxWST4KOJncfS4bX6NSIv8hsocFHk5PH/5d0qEAEbEMeAfZ7+BjZL+XB+cu8SWyHrm+3LmVp2DXJ3tw4VGyHrv9yH63htL7a7ZW0wDD62Y9T9LJZBOP39fpWHqdpAAmRcRaub6Wma093FNlZmZm1gROqszMzMyawMN/ZmZmZk3gniozMzOzJnBSZWZmZtYEPfk28jFjxsSECRM6HYaZmVnb3HDDDcsjYuzgNZtDGhHF1+Yd0CURMaVZ8XSDnkyqJkyYwIIFCzodhpmZWdtIqvXaqda1yUDvoC8m+NeYJobSFXoyqTIzM7M2kMqf24PPyTmpMjMzs5I8NTvPd8PMzMysCZxUmZmZWSkawv8GvbY0S9JSSbdXlX9E0l2SFkr6Sq78BEl9ku6uvPw9lU9JZX2Sjm/qDaji4T8zMzMrQaAh9M0MPqfqbOC7wDnPtSi9EZgG7BQRT0vaIpVvT/Yy8R2AFwOXSfq3dNrpZC+jXwxcL2luRNxRPvDanFSZmZlZSa0b8IqIqyVNqCr+P8CpEfF0qrM0lU8D5qTy+yT1AbumY30RcS+ApDmpbkuSKg//mZmZWSeMkbQgtx1V4Jx/A/5D0rWSrpL0mlQ+DliUq7c4ldUqbwn3VJmZmVkJQkMZ/oPlETG5wXPWAUYDuwOvAc6X9NKhBNFMTqrMzMyspJHtbnAxcGFEBHCdpNXAGGAJsHWu3vhURp3ypvPwn5mZmZWQ9VSV3Ur6BfBGgDQRfT1gOTAXOFjS+pImApOA64DrgUmSJkpaj2wy+9yhfd+1uafKzMzMGiZALeybkXQesBfZ3KvFwAxgFjArLbPwDDA99VotlHQ+2QT0VcDREfFsus4xwCVk3WqzImJhq2J2UmVmZmZdJyIOqXHofTXqnwKcMkD5PGBeE0OryUmVmZmZNU4MdaJ6z2nZ3RiOK6Ga9Qpp3bZtZra2ElkaUXbrPa3sqTqbYbYSqpmZmRXnnqr+WpZUDceVUM3MzKyoIa9T1XPafTe6eiVUMzMzs7LaPVG9ZSuhpuXtjwLYZpttmnFJMzMzq6OVSyoMR+2+G8+thBoR1wGDrYRab4XUfiJiZkRMjojJY8eObUnwZmZmlhF0YvHPrtbu7+oXdPFKqGZmZlZUR1ZU72otG/4bjiuhmpmZmZXVyqf/ht1KqGZmZlac51T15xXVzczMrHES0shOR9FVnFSZmZlZKb06N6osJ1VmZmbWMCFGePivH98NMzMzsyZwT5WVNmbT1wxeqUmWP3F929oyM7NiPPzXn5MqMzMzK8VJVX9OqszMzKwEIfz0X56TKjMzM2tY5TU19jzfDTMzM7MmcE+VmZmZlSCvqF7FSZWZmZk1TnhF9SpOqszMzKwEL/5ZzXfDzMzMrAncU2VmZmYN89N/a3JSZWZmZiV4napqTqoK2mX0UW1r68YVM9vWlpmZWVmeU9WfkyozMzMrQX76r4pTTDMzM7MmcE+VmZmZNUzgxT+rOKkyMzOzErxOVTUnVWZmZlaKn/7rzymmmZmZWRO4p8rMzMxK8AuVqzmpMjMzs4YJGOElFfpxUmVmZmYluKeqmpMqMzMzK2WEJ6r34xTTzMzMrAmcVJmZmVnDhBgRI0pvg15fmiVpqaTbc2UnS1oi6ea07Zc7doKkPkl3S9o3Vz4llfVJOr7pNyLHSZWZmZmVIkaU3go4G5gyQPk3ImLntM0DkLQ9cDCwQzrnDEkjlb2c8HRgKrA9cEiq2xKeU2VmZmYlqKVzqiLiakkTClafBsyJiKeB+yT1AbumY30RcS+ApDmp7h3NjhdamFRJmgUcACyNiB2rjh0HfBUYGxHLJQn4FrAfsBI4PCJuTHWnAyelU78YEbNbFbPZUBy+1cltbe/sh9rbnplZXhPe/TdG0oLc55kRMbPAecdIOgxYABwXEY8B44BrcnUWpzKARVXluw0h5rpaOfx3NgN020naGtgH+GuueCowKW1HAWemuqOBGWQ3YFdghqTNWhizmZmZtcfyiJic24okVGcC2wI7Aw8BX2tlgI1qWVIVEVcDKwY49A3gk0DkyqYB50TmGmCUpK2AfYH5EbEiZaLzGXh81czMzNoqe6Fy2f+VERGPRMSzEbEa+AHPD/EtAbbOVR2fymqVt0RbJ6pLmgYsiYhbqg6NY83uuXF1yge69lGSFkhasGzZsiZGbWZmZgNpd1KVOlwq3g5UngycCxwsaX1JE8lGvq4DrgcmSZooaT2yyexzS3/Dg2jbRHVJGwEnkg39NV3qNpwJMHny5BikupmZmQ2BoNDSCKWvL50H7EU292ox2XSgvSTtTDbadT/wIYCIWCjpfLIJ6KuAoyPi2XSdY4BLgJHArIhY2KqY2/n037bAROCWbF4644EbJe1K/W67varKr2xDrGZmZtZBEXHIAMVn1al/CnDKAOXzgHlNDK2mtg3/RcRtEbFFREyIiAlkQ3m7RMTDZF1xhymzO/B4RDxEllnuI2mzNEF9n1RmZmZmHaVWr1M17LRySYU1uu0iolaGOY9sOYU+siUVjgCIiBWSvkA2Jgrw+YgYaPK7mZmZtVnZuVG9qmVJVY1uu/zxCbn9AI6uUW8WMKupwZmZmdmQCBiBOh1GV/GK6mZmZlaCUAsnqg9HvhtmZmZmTeCeKjNrmRmTvtDW9j53z2fa2p7Z2s5zqvpzUmVmZmYN85yqNTmpMjMzsxLkpKqKkyozMzMrpVfXmyrLd8PMzMysCdxTZWZmZg3znKo1OakyMzOzUpxU9eekyoa97+74uba1dcztM9rWlplZdxOSk6o8z6kyMzMzawL3VJmZmVnDPKdqTU6qzMzMrBQPd/XnpMrMzMxKkXuq+nFSZWZmZg0TMMIT1ftxz52ZmZlZE7inyszMzErxRPX+nFSZmZlZKR79689JlZmZmTVMyD1VVZxUDTO/2vWktrb31uu+2Nb2zMxs+HBPVX+eqG5mZmbWBO6pMjMzs4Z5RfU1OakyMzOzxglGOKfqx0mVmZmZlSJPqurHc6rMzMzMmsA9VWZmZtawbE6V5Q16PyS9S9Imaf8kSRdK2qX1oZmZmVk3k8pvvahIT9VnIuJnkvYE3gycBpwJ7NbSyMzMmuT6NxzX1vZec9XX2tqeWaf46b/+ivTcPZu+7g/MjIiLgfVaF5KZmZkNB+6p6q9IUrVE0veB9wDzJK1f5DxJsyQtlXR7ruw0SXdJulXSRZJG5Y6dIKlP0t2S9s2VT0llfZKOb+i7MzMzM2uTIknVu4FLgH0j4m/AaOATBc47G5hSVTYf2DEiXgn8GTgBQNL2wMHADumcMySNlDQSOB2YCmwPHJLqmpmZWQeJbJ2qslsvGjSpioiVwFJgz1S0CrinwHlXAyuqyi6NiFXp4zXA+LQ/DZgTEU9HxH1AH7Br2voi4t6IeAaYk+qamZlZh2kI/+tFRYbxZgCfIvUqAesCP2lC2x8AfpP2xwGLcscWp7Ja5WZmZtZJQ+il6tWeqiJP/70deBVwI0BEPFhZYqEsSZ8m6/E6dyjXqbrmUcBRANtss02zLmtmZmYDqAz/2fOKzKl6JiICCABJGw+lQUmHAwcAh6brAiwBts5VG5/KapWvISJmRsTkiJg8duzYoYRoZmZmHTbQA2+5Y8dJCklj0mdJ+nZ6qO3W/HqakqZLuidt01sZc5Gk6vz09N8oSf8JXAb8oExjkqYAnwQOTHO1KuYCB0taX9JEYBJwHXA9MEnSREnrkU1mn1umbTMzM2suDWEr4GzWfOANSVsD+wB/zRVPJcsdJpGNWp2Z6o4GZpCtrbkrMEPSZg18iw0ZdPgvIr4q6S3AE8DLgM9GxPzBzpN0HrAXMEbSYrJv6gRgfWB+egnjNRHxXxGxUNL5wB1kw4JHR8Sz6TrHkD19OBKYFRELG/82zczMrNlaOfwXEVdLmjDAoW+QddD8Mlc2DTgnjYBdI2mUpK3I8pD5EbECQNJ8skTtvFbEXOjdfymJGjSRqjrnkAGKz6pT/xTglAHK5wHzGmnbzMzMWksIDW0VzzGSFuQ+z4yImXXblKYBSyLilqq2u+KBt5pJlaQ/RMSekp4kzaeqHAIiIjZtVVBmZmbW85ZHxOSilSVtBJxINvTXlWomVRGxZ/o6pCf9zMzMrDcVmZjdRNsCE4FKL9V44EZJu1L/gbe9qsqvbFWA9XqqRtc7sTI+aWZmZmundr7DLyJuA7Z4vm3dD0yOiOWS5gLHSJpDNin98Yh4SNIlwJdyk9P34fl1N5uu3pyqG8iG/QRsAzyW9keRzbif2KqgzMzMrLuJ1vZUDfTAW0TUmps9D9iP7I0sK4EjIOsAkvQFstUEAD7fyk6hesN/EwEk/QC4KE0YR9JU4G2tCsjMrJf97bCWLpPTz6hzZretLVsLqbU9VTUeeMsfn5DbD+DoGvVmAbOaGlwNRZLM3SsJFUBE/AZ4betCMjMzMxt+iiyp8KCkk3j+fX+HAg+2LiQzMzMbDvyamv6K9FQdAowFLkrbFqnMzMzM1lKVOVVlt15UZEX1FcCxbYjFzMzMhpF2Pv03HAyaVEm6gv6LfwIQEW9qSURmZmY2LHj4r78ic6r+X25/A+AdZO/nMzMzM7OkyPDfDVVFf5R0XYviMTMzs2HCHVX9FRn+y6+sPgJ4NfDClkVkZmZmXU94+K9akeG//Mrqq4D7gCNbGZSZmZl1P7mvqp8iSdUrIuKf+QJJ67coHjMzM7NhqchSEf87QNmfmh2ImZmZDSPKhv/Kbr2oZk+VpBcB44ANJb2K5+ejbQps1IbYzMzMrEsJT1SvVm/4b1/gcGA88DWev3dPAie2NiwzM7P2eva09k4XHvmJs9raXiv0ao9TWTWTqoiYDcyW9I6I+HkbYzIzM7NhwElVfzXnVEl6q6SXVBIqSZ+VdIukuZImti9EMzMzs+5Xb6L6KcAyAEkHAO8DPgDMBb7X+tDMzMysW2VzqqL01ovqzamKiFiZ9g8Czkqrq98g6cOtD83MzMy6mYf/+quXVEnSC4CVwN7AGbljG7Q0KjMza6nVPzymre2N+OB329qetYdzqv7qJVXfBG4GngDujIgFAGl5hYdaHpmZmZl1Lb+mZk31nv6bJekSYAvgltyhh4EjWh2YmZmZ2XBSd0X1iFgSETdFxOpc2UMR8dfWh2ZmZmbdbMQQtm4k6UJJ+0sqFWK3fl9mZmbWzQQawtalzgDeC9wj6VRJL2vkZCdVZmZm1rDKnKpeevdfRFwWEYcCuwD3A5dJ+l9JR0had7Dz6737b/QgDa9oNFgzMzOzbiZpc7K1Od8P3AScC+wJTAf2qnduvZ6qG4AF6esy4M/APWn/hgJBzZK0VNLtubLRkuZLuid93SyVS9K3JfVJulXSLrlzpqf690iaPli7ZmZm1h4awtaNJF0E/B7YCHhrRBwYET+NiI8ALxjs/JpJVURMjIiXApelC4+JiM2BA4BLC8R2NjClqux44PKImARcnj4DTAUmpe0o4Mz0zY0GZgC7AbsCMyqJmJmZmXVWrw3/AT+IiO0j4r8j4iEASesDRMTkwU4uMqdq94iYV/kQEb8BXjvYSRFxNVA9RDgNmJ32ZwNvy5WfE5lrgFGStgL2BeZHxIqIeAyYz5qJmpmZmbWZ6L2n/4AvDlD2p6In11v8s+JBSScBP0mfDwUeLNpAlS0rmR/Zeldbpv1xwKJcvcWprFa5mZmZdVgXP8XXEEkvIssvNkyLnFe+s03JhgILKZJUHUI2BHcREMDVqWxIIiIkNe2NipKOIhs6ZJtttmnWZc3MzKz37QscDowHvp4rfxI4sehFBk2q0lN+x0raOCKeajDIao9I2ioiHkrDe0tT+RJg61y98alsCf1n2o8HrqwR50xgJsDkyZN78/XXZmZmXSMYQW/8uY2I2cBsSe+IiJ+Xvc6gw5qSXivpDuDO9HknSWcMclotc8keSSR9/WWu/LD0FODuwONpmPASYB9Jm6UJ6vukMjMzM+uwXln8U9L70u4ESR+v3opep8jw3zfIusXmAkTELZJeXyDA88h6mcZIWkw2hHgqcL6kI4EHgHen6vOA/YA+YCXp3YIRsULSF4DrU73Pe30sMzOzzqtMVO8RG6evgy6bUE+RpIqIWKT+aeWzBc6pNe9q7wHqBnB0jevMAmYVCNPMzMysYRHx/fT1c0O5TpEkc5Gk1wIhaV1J/480FGhmZmZrqSGsUdWt61RJ+oqkTVO+c7mkZbmhwUEVSar+i6wXaRzZxPGdgQ+XitbMzMx6Rq+tqA7sExFPkC10fj+wHfCJoicXGf57WXq54HMkvQ74YwNBmpmZWQ/JXqjcG0//5VTyov2Bn0XE42pgVn2RnqrvFCwzMzOztUgP9lT9WtJdwKuByyWNBf5Z9OSaPVWS9iB7Hc3YqscJNwVGlgzWzMzMbFCSZpENwy2NiB1T2RfIXm23mmyty8Mj4kFl3UnfIltJYGUqvzGdMx04KV32i2lNqgFFxPGSvkK2tNOzkp5K7RVSb/hvPbJHC9cBNsmVPwG8s2gDZmZm1ptaPOH8bOC7wDm5stMi4jMAkj4KfJZs7vdUYFLadgPOBHaTNJpsSafJZG+FuUHS3PQ+4VpeTrZeVT5HOqdW5byaSVVEXAVcJensiHhA0kYRsbLIRc3MzKy3tXqdqoi4WtKEqrInch83hueWdJ8GnJOWaLpG0qj05pa9gPmVNS4lzQemAOcN1KakHwPbAjfz/PJRwVCTqpwXS/oNWa/VNpJ2Aj4UEX4C0MzMbC02xFf4jpG0IPd5Znrl3CBt6hTgMOBx4I2peBywKFdtcSqrVV7LZGD7lJw1rEiS+U2yFdUfhWxFdWDQFdXNzMysd1V6qspuwPKImJzbBk2oACLi0xGxNXAucEwTvyWA24EXlT25UM9dRCyqKhp0RXUzMzOzFjoXeEfaXwJsnTs2PpXVKq9lDHCHpEskza1sRQMqMvzXb0V14Fi8orqZmdlar90ro0uaFBH3pI/TgLvS/lzgGElzyCaqPx4RD0m6BPiSpM1SvX2AE+o0cfJQ4iuSVP0X2WOKlRXVL6XGe/rMzMxs7SFat/inpPPIJpqPkbSY7Cm+/SS9jGxJhQfIchSAeWTLKfSRLalwBEBErEjLMFyf6n2+Mml9IBFxlaSXAJMi4jJJG9HAMlKDJlURsRw4dLB6ZmZmZTy7+sq2tTVyxF5ta6vXqcXv8IuIQwYoPqtG3aBGh09EzAJmFWlT0n8CRwGjyZ4CHAd8D9i7yPn1Fv/8DtROQSPio0UaMDMzMxsmjgZ2Ba4FiIh7JG1R9OR6PVUL6hwzMzOztVy751S1wdMR8UzlfX9pAdDCY5z1Fv/st4y7pE2z4niyZKBmZmbWQ1o5p6pDrpJ0IrChpLcAHwZ+VfTkQZdUkDRZ0m3ArcDtkm6R9OrS4ZqZmdmwJ7KeqrJblzoeWAbcBnwImBcRny56cpGn/2YBH46I3wNI2hP4EfDKxmM1MzOz3hC92FP1kYj4FvCDSoGkY1PZoIos/vlsJaECiIg/AKsaDtPMzMysu00foOzwoicX6am6StL3yV4+GMB7gCsl7QIQETcWbczMzMx6RxcP4zVE0iHAe4GJVSuobwLUXNeqWpGkaqf0dUZV+avIkqw3FW3MzMzMekPl3X894n+Bh8heU/O1XPmTZHPKCymy+OcbB6tjZmZmax+pN+ZURcQDZCu07zGU6wyaVEkaBRwGTMjX9+KfZmZma7ce6qkCQNJBwJeBLcg640S2nNSmRc4vMvw3D7iG7PHC1SXjNDMzM+t2XwHeGhF3ljm5SFK1QUR8vMzFzczMrDdl7/7rjeG/nEfKJlRQLKn6cXrB4K+BpyuF9d7ybGZmZr2vRx7+y1sg6afAL+if81xY5OQiSdUzwGnAp3n+/TcBvLShMM3MzKyn9GBP1abASmCfXFkATUuqjgO2i4jljcdmZmZmNjxExBFDOb9IUtVHlrWZmZmZAc+/+68XSPoO1H7nTtEVD4okVU8BN0u6gv7ji15SwczMbC3WQ+/+W9CMixRJqn6RtqaR9H+BD5JlhbcBRwBbAXOAzYEbgPdHxDOS1gfOAV4NPAq8JyLub2Y8ZmZm1rhe6amKiNnNuE6RFdVnS1oP+LdUdHdE/Ktsg5LGAR8Fto+If0g6HzgY2A/4RkTMkfQ94EjgzPT1sYjYTtLBZItyvads+2ZmZtYM0Us9VU0x6GKokvYC7gFOB84A/izp9UNsdx1gQ0nrABuRvW/nTcAF6fhs4G1pf1r6TDq+t6QeyY3NzMysVxRZYf5rwD4R8YaIeD2wL/CNsg1GxBLgq8BfyZKpx8mG+/4WEatStcXAuLQ/DliUzl2V6m9efV1JR0laIGnBsmXLyoZnZmZmBWQT1aP01o0kva5IWS1Fkqp1I+LuyoeI+DOwbtEGqknajKz3aSLwYmBjYErZ6+XimhkRkyNi8tixY4d6OTMzM6tH2ZyqsluX+k7BsgEVmai+QNIPgZ+kz+9jaLPk3wzcFxHLACRdCLwOGCVpndQbNR5YkuovAbYGFqfhwheSTVg3MzOzDuqVOVWS9gBeC4yVlH8136bAyKLXKdJT9X+AO8gml38UuD2VlfVXYHdJG6W5UXun618BvDPVmQ78Mu3PTZ9Jx38XEb3xUzQzMxumemz4bz3gBWSdTZvktid4PjcZVM2eKkljgbERcQfw9bQhaQeyzK3UxKWIuFbSBcCNwCrgJmAmcDEwR9IXU9lZ6ZSzyN4/2AesIHtS0MzMzKwpIuIq4CpJZ0fEA2WvU2/47ztkT/tVG032HsD3lm00ImYAM6qK7wV2HaDuP4F3lW3LzMzMWqMHn8VfX9JMYAK5HCki3lTk5HpJ1XYRcXV1YUT8XtKZjUZpZmZmvWVEj8ypyvkZ8D3gh8CzjZ5cL6napM6x0k//mZmZ2fAnunJu1FCtiojSHUf1Jqr3SdqvulDSVLKhOjMzM7Ne8itJH5a0laTRla3oyfV6qj4GXCzp3WSLcwJMBvYADigdrpmZmfWEHpxTVVlt4BO5sgBeWuTkmklVRNwj6d/JJqTvmIqvAj6UJo+bmZnZWqzX5lRFxMShnF938c+IeBr40VAaMDMzs94jgXpsTpWkwwYqj4hzipxfZEV1MzMzszV08etmynpNbn8DsgXKbwScVJmZmZkVFREfyX+WNAqYU/T8mk//Sbo8ff1y2eDMzMysd0lRehsmngIKz7Oq11O1laTXAgdKmkP2mp/nRMSN5eIzMzOz4a7y7r9eIulX8Nzs+5HAK4Dzi55fL6n6LPAZYDzpvX85ARRast3MzMx60bDqcSrqq7n9VcADEbG46Mk1h/8i4oKImAp8JSLeWLU5oTIzM1vLjRjCNhhJsyQtlXR7ruw0SXdJulXSRWnOU+XYCZL6JN0tad9c+ZRU1ifp+Hptphcr30X2VpnNgGcKhPqcQb+viPiCpAMlfTVtXvjTzMzMWu1sYEpV2Xxgx4h4JfBn4AQASdsDBwM7pHPOkDRS0kjgdGAqsD1wSKo7oLTg+XXAu4B3A9dKemfRgAd9+k/SfwO7AuemomMlvTYiTizaiJmZmfWYFq9TFRFXS5pQVXZp7uM1QCXhmQbMSetr3iepjyx3AeiLiHsB0hzxacAdNZr9NPCaiFia6o8FLgMuKBJzkSUV9gd2jojVqYHZwE2AkyozM7O1VBMmqo+RtCD3eWZEzGzg/A8AP03748iSrIrFqQxgUVX5bnWuOaKSUCWPUmy0Eii+TtUoYEXaf2HRi5uZmVnvGmJP1fKImFyuXX2abCL5uYPVbdBvJV0CnJc+vwf4TdGTiyRV/w3cJOkKssT09UDdiV5mZmZmrSDpcOAAYO+IqGR1S4Ctc9XGpzLqlK8hIj4h6SBgz1Q0MyIuKhrboElVRJwn6UqeX7r9UxHxcNEGzMzMrDe1e50qSVOATwJviIiVuUNzgf+R9HXgxcAksgnnAiZJmkiWTB0MvHeA624HbBkRf4yIC4ELU/mekraNiL8Uia/Q8F9EPJQCNjMzM0NkL1Vu2fWl84C9yOZeLQZmkD3ttz4wX1nj10TEf0XEQknnk01AXwUcHRHPpuscA1xCtpjnrIhYOEBz30zXrvZ4OvbWIjH73X9mZmbWOAUa0dKn/w4ZoPisOvVPAU4ZoHweMG+Q5raMiNsGOPe26icQ63FSZWZmZqX00GtqRtU5tmHRi9R9TDAtnHVX0YuZmZmZDUMLJP1ndaGkDwI3FL1I3Z6qiHg2Le2+TUT8tUSQZmZm1qN66N1/HwMuknQozydRk4H1gLcXvUiR4b/NgIWSrgOeqhRGxIGFQzUzM7Oekk1U742kKiIeAV4r6Y3Ajqn44oj4XSPXKZJUfabR4MzMzKzHqbVP/3VCRFwBXFH2/CLrVF0l6SXApIi4TNJGZI8lmpmZ2VpsRAuf/huOBn2fTZq4dQHw/VQ0DvhFC2MyMzMzG3aKDP8dTfam52sBIuIeSVu0NCozMzPrctEzc6qapUhS9XREPJNWLkXSOoDvopmZ2VpMPTinaqgGHf4DrpJ0IrChpLcAPwN+NZRGJY2SdIGkuyTdKWkPSaMlzZd0T/q6WaorSd+W1CfpVkm7DKVtMzMzaw6NiNJbLyqSVB0PLANuAz5EttT7SUNs91vAbyPi5cBOwJ2pncsjYhJwefoMMJXsxYiTgKOAM4fYtpmZmVnTFXn6b7Wk2WRzqgK4OyJKp5iSXgi8Hjg8Xf8Z4BlJ08henAgwG7gS+BQwDTgntXlN6uXaKr3k2czMzDrEc6r6K/L03/7AX4BvA98F+iRNHUKbE8l6vn4k6SZJP5S0MdnLDCuJ0sPAlml/HLAod/7iVGZmZmYdVJlXVWbrRUUmqn8NeGNE9AFI2ha4GPjNENrcBfhIRFwr6Vs8P9QHQESEGkx/JR1FNjzINttsUzI0MzMzK0T07NyosorMqXqyklAl9wJPDqHNxcDiiLg2fb6ALMl6RNJWAOnr0nR8CbB17vzxqayfiJgZEZMjYvLYsWOHEJ6ZmZkNpvKamrJbL6qZVEk6SNJBZG9unifpcEnTyZ78u75sgxHxMLBI0stS0d7AHcBcYHoqmw78Mu3PBQ5LTwHuDjzu+VRmZmbWbeoN/701t/8I8Ia0vwzYcIjtfgQ4V9J6ZD1fR5AleOdLOhJ4AHh3qjsP2A/oA1amumZmZtZhKjLetRapmVRFRMuSl4i4GZg8wKG9B6gbZKu6m5mZWbeQk6pqg05UlzSRrGdpQr5+RBzYurDMzMysu/Xu3Kiyijz99wvgLLK5VKtbGo2ZmZnZMFUkqfpnRHy75ZGYmZnZsCE8/FetSFL1LUkzgEuBpyuFEXFjy6IyMzOz7ibA61T1UySp+nfg/cCbeH74L9JnMzMzW0v16sroZRVJqt4FvDS9o8/MzMwM8PBftSK343ZgVIvjMDMzMxvWivRUjQLuknQ9/edUeUkFMzOztZUo1jWzFimSVM1oeRRmZmY27Hj4r79Bk6qIuKodgZiZmdnw4onq/RVZUf1Jsqf9ANYD1gWeiohNWxmYmZmZdTEP/62hSE/VJpV9SQKmAbu3MigzMzOz4aahHDMyvwD2bU04ZmZmNhxUVlQvu/WiIsN/B+U+jgAmA/9sWURmZmbW/Tz8t4YiT/+9Nbe/CrifbAjQzMzM1mK92uNUVpE5VUe0IxAzMzOz4axmUiXps3XOi4j4QgviMTMzs+HCPVX91OupemqAso2BI4HNASdVZmZmayuBRnihqryaSVVEfK2yL2kT4FjgCGAO8LVa55mZmdlawjlVP3U77iSNlvRF4FayBGyXiPhURCxtS3RmZmbWvUYMYRuEpFmSlkq6PVf2LkkLJa2WNLmq/gmS+iTdLWnfXPmUVNYn6fihfcP11fy2JJ0GXA88Cfx7RJwcEY+1MhgzMzOz5GxgSlXZ7cBBwNX5QknbAwcDO6RzzpA0UtJI4HRgKrA9cEiq2xL15lQdBzwNnAR8Ws+/4EdkE9X9mhozM7O1ldTSOVURcbWkCVVld2ZNr9HuNGBORDwN3CepD9g1HeuLiHvTeXNS3TtaEXO9OVWe029mZma1DS1TGCNpQe7zzIiYWfJa44Brcp8XpzKARVXlu5VsY1BFFv80MzMz60/A0HqqlkfE5MGrDR9OqszMzKyULlpRfQmwde7z+FRGnfKm657bYWZmZlbOXOBgSetLmghMAq4je+BukqSJktYjm8w+t1VBuKfKzMzMymnhRHVJ5wF7kc29WgzMAFYA3wHGAhdLujki9o2IhZLOJ5uAvgo4OiKeTdc5BrgEGAnMioiFrYrZSZWZmZk1buhzquqKiENqHLqoRv1TgFMGKJ8HzGtiaDU5qTIzM7OGia6aU9UVfDvMzMzMmqBjSVVa6fQmSb9OnydKujYtI//TNKGMNOnsp6n82uqFwMzMzKxDpPJbD+pkT9WxwJ25z18GvhER2wGPAUem8iOBx1L5N1I9MzMz6yQpm1NVdutBHUmqJI0H9gd+mD4LeBNwQaoyG3hb2p+WPpOO760B1qc3MzOzNnNS1U+neqq+CXwSWJ0+bw78LSJWpc/55eXHkZaYT8cfT/X7kXSUpAWSFixbtqyFoZuZmdlzT/85qXpO25MqSQcASyPihmZeNyJmRsTkiJg8duzYZl7azMzMbFCdWFLhdcCBkvYDNgA2Bb4FjJK0TuqNyi8jX1l6frGkdYAXAo+2P2wzMzPLU4/2OJXV9p6qiDghIsZHxASy5eJ/FxGHAlcA70zVpgO/TPtz02fS8d9FRLQxZDMzMxuIh//66abFPz8FzJH0ReAm4KxUfhbwY0l9ZMvTH9yh+MzMzKxCvZscldXRpCoirgSuTPv3ArsOUOefwLvaGpiZmZkNzklVP15R3czMzKwJumn4z8zMzIaLFr9QeThyUmVmZmbleC3ufpxUmZmZWSleUqE/z6kyMzMzawL3VJmZmVnjvKTCGpxUmZmZWTlOqvpxUmVmZmaN89N/a3BSZWZmZuWM8NTsPN8NMzMzsyZwT5WZmZmV4Inq1ZxUmZmZWeM8p2oNTqrMzMysHK+o3o+TKjMzMyvHE9X78d0wMzMzawL3VJmZmVnjvKL6GpxUmZmZWTlOqvpxUmVmZmaNE55TVcV3w8zMzKwJ3FNlZmZm5Xj4rx8nVWZmZlaCJ6pXc1JlZmZmjRMgzyLKc1JlZmZm5binqh+nmGZmZmZN4J4qMzMzK0FeUqGKkyozMzNrnPDwXxWnmGZmZlbOiBHlt0FImiVpqaTbc2WjJc2XdE/6ulkql6RvS+qTdKukXXLnTE/175E0vSX3IXFSZWZmZo2r9FSV3QZ3NjClqux44PKImARcnj4DTAUmpe0o4EzIkjBgBrAbsCswo5KItYKTKjMzM+s6EXE1sKKqeBowO+3PBt6WKz8nMtcAoyRtBewLzI+IFRHxGDCfNRO1pml7UiVpa0lXSLpD0kJJx6byhrv0zMzMrFOUrVNVdoMxkhbktqMKNLplRDyU9h8Gtkz744BFuXqLU1mt8pboxET1VcBxEXGjpE2AGyTNBw4n69I7VdLxZF16n6J/l95uZF16u3UgbjMzM8sb2kT15RExuezJERGSYigBNFvbe6oi4qGIuDHtPwncSZY1NtqlZ2ZmZp0iWjpRvYZHKjlA+ro0lS8Bts7VG5/KapW3REfnVEmaALwKuJbGu/Sqr3VUpQtx2bJlrQvazMzMOmUuUHmCbzrwy1z5YWnK0O7A4ymnuATYR9JmaVrRPqmsJTq2TpWkFwA/Bz4WEU9Iz3chlunSi4iZwEyAyZMnd1V3oJmZWe9p7eKfks4D9iKbe7WY7Cm+U4HzJR0JPAC8O1WfB+wH9AErgSMAImKFpC8A16d6n4+I6snvTdORpErSumQJ1bkRcWEqfkTSVhHxUMEuPTMzM+ukFi7+GRGH1Di09wB1Azi6xnVmAbOaGFpNnXj6T8BZwJ0R8fXcoUa79MzMzKxTOjOnqqt1oqfqdcD7gdsk3ZzKTqTBLj0zMzPrJIFa11M1HLU9qYqIP5DltwNpqEvPzMzMrFv4hcpmZmZWTo8O45XlpMrMzMwaV5lTZc9xUmVmZmYlFH4x8lrDSZWZmZk1zj1Va/DdMDMzM2sC91SZmZlZOe6p6sdJlZmZmZXgdaqqOakyMzOzxgnCPVX9+G6YmZmZNYF7qszMzKwc91T146TKzMzMSpCTqipOqszMzKxxwot/VnFSZWZmZiW4p6qa74aZmZlZE7inyszMzMqR+2bynFSZmZlZ4/zuvzU4qTIzM7MSPKeqmu+GmZmZWRO4p8rMzMwa5yUV1uCkyszMzMrx8F8/TqrMzMysBBF++q8fJ1VmZmbWOD/9twbfDTMzM7MmcE+VmZmZleAlFao5qTIzM7PGefhvDU6qzMzMrBwnVf04qTIzM7MSPPxXzXfDzMzMrAncU2VmZmaNEyCvqJ43bHqqJE2RdLekPknHdzoeMzOztd6IEeW3HjQseqokjQROB94CLAaulzQ3Iu7obGRmZmZrK8+pqjZc7sauQF9E3BsRzwBzgGkdjsnMzMzsOcOipwoYByzKfV4M7NahWMzMzMzrVK1BEdHpGAYl6Z3AlIj4YPr8fmC3iDgmV+co4Kj08WXA3W0PdE1jgOWdDiLplli6JQ7onlgcx5q6JZZuiQO6JxbHsaZuieUlETG2XY1J+i3Z917W8oiY0qx4usFw6alaAmyd+zw+lT0nImYCM9sZ1GAkLYiIyZ2OA7onlm6JA7onFsexpm6JpVvigO6JxXGsqZtiaadeS4iaYbj0210PTJI0UdJ6wMHA3A7HZGZmZvacYdFTFRGrJB0DXAKMBGZFxMIOh2VmZmb2nGGRVAFExDxgXqfjaFA3DUd2SyzdEgd0TyyOY03dEku3xAHdE4vjWFM3xWIdNCwmqpuZmZl1u+Eyp8rMzMysqzmpagFJsyQtlXR7h+PYWtIVku6QtFDSsR2MZQNJ10m6JcXyuU7FkuIZKekmSb/ucBz3S7pN0s2SFnQwjlGSLpB0l6Q7Je3RgRhelu5DZXtC0sfaHUcunv+bfldvl3SepA06FMexKYaF7b4fA/1bJmm0pPmS7klfN+tQHO9K92S1pLY9eVcjltPS/3dulXSRpFHtise6i5Oq1jgb6IZHTVcBx0XE9sDuwNGStu9QLE8Db4qInYCdgSmSdu9QLADHAnd2sP28N0bEzh1+JPtbwG8j4uXATnTg3kTE3ek+7Ay8GlgJXNTuOAAkjQM+CkyOiB3JHpA5uANx7Aj8J9lbJXYCDpC0XRtDOJs1/y07Hrg8IiYBl6fPnYjjduAg4Oo2tD9YLPOBHSPilcCfgRPaHJN1CSdVLRARVwMruiCOhyLixrT/JNkfynEdiiUi4u/p47pp68iEPknjgf2BH3ai/W4j6YXA64GzACLimYj4W0eDgr2Bv0TEAx2MYR1gQ0nrABsBD3YghlcA10bEyohYBVxFlki0RY1/y6YBs9P+bOBtnYgjIu6MiLYv8lwjlkvTzwfgGrK1FG0t5KRqLSFpAvAq4NoOxjBS0s3AUmB+RHQqlm8CnwRWd6j9vAAulXRDeitAJ0wElgE/SkOiP5S0cYdiqTgYOK9TjUfEEuCrwF+Bh4DHI+LSDoRyO/AfkjaXtBGwH/0XQu6ELSPiobT/MLBlJ4PpQh8AftPpIKwznFStBSS9APg58LGIeKJTcUTEs2loZzywaxraaCtJBwBLI+KGdrddw54RsQswlWx49vUdiGEdYBfgzIh4FfAU7RnSGVBa4PdA4GcdjGEzsh6ZicCLgY0lva/dcUTEncCXgUuB3wI3A8+2O45aInt83I+QJ5I+TTbt4txOx2Kd4aSqx0lalyyhOjciLux0PABpaOkKOjPv7HXAgZLuB+YAb5L0kw7EATzXI0JELCWbP7RrB8JYDCzO9RxeQJZkdcpU4MaIeKSDMbwZuC8ilkXEv4ALgdd2IpCIOCsiXh0RrwceI5uz00mPSNoKIH1d2uF4uoKkw4EDgEPDaxWttZxU9TBJIpsnc2dEfL3DsYytPBEjaUPgLcBd7Y4jIk6IiPERMYFsiOl3EdH2HggASRtL2qSyD+xDNtzTVhHxMLBI0stS0d7AHe2OI+cQOjj0l/wV2F3SRun/R3vToQcbJG2Rvm5DNp/qfzoRR85cYHranw78soOxdAVJU8imFBwYESs7HY91jpOqFpB0HvAn4GWSFks6skOhvA54P1lvTOUx9f06FMtWwBWSbiV7l+P8iOjocgZdYEvgD5JuAa4DLo6I33Yolo8A56afz87AlzoRREou30LWM9QxqdfuAuBG4Dayfys7tWr2zyXdAfwKOLqdDxHU+LfsVOAtku4h69E7tRNxSHq7pMXAHsDFki5pdRy1YgG+C2wCzE//zn6vHbFY9/GK6mZmZmZN4J4qMzMzsyZwUmVmZmbWBE6qzMzMzJrASZWZmZlZEzipMjMzM2sCJ1VmtgZJkV8UVdI6kpZJKrUMhqRRkj6c+7xX2WuZmXUrJ1VmNpCngB3TQq2QrR21ZAjXGwV8eLBKZmbDmZMqM6tlHrB/2u+3yrmk0ZJ+IelWSddIemUqP1nSLElXSrpX0kfTKacC26aFEU9LZS+QdIGkuySdm1YuNzMbtpxUmVktc4CDJW0AvBK4Nnfsc8BNEfFK4ETgnNyxlwP7kr3HcEZ6/+TxwF8iYueI+ESq9yrgY8D2wEvJ3gBgZjZsOakyswFFxK3ABLJeqnlVh/cEfpzq/Q7YXNKm6djFEfF0RCwne9nuljWauC4iFkfEauDm1JaZ2bC1TqcDMLOuNhf4KrAXsHnBc57O7T9L7X9nitYzMxsW3FNlZvXMAj4XEbdVlf8eOBSyJ/mA5RHxRJ3rPEn2wlkzs57l/zI0s5oiYjHw7QEOnQzMknQrsBKYPsh1HpX0R0m3A78BLm52rGZmnaaI6HQMZmZmZsOeh//MzMzMmsBJlZmZmVkTOKkyMzMzawInVWZmZmZN4KTKzMzMrAmcVJmZmZk1gZMqMzMzsyZwUmVmZmbWBP8fyu0nY9LmnzQAAAAASUVORK5CYII=\n",
       "datasetInfos": [],
       "metadata": {},
       "removedWidgets": [],
       "type": "image"
      }
     },
     "output_type": "display_data"
    }
   ],
   "source": [
    "# Filter for completed studies in 2023\n",
    "completed_studies_2023 = Cleaned_Clinical_df.filter((col(\"Status\") == \"COMPLETED\") & (year(col(\"Completion\")) == 2023))\n",
    "\n",
    "# Count studies by month\n",
    "monthly_counts = completed_studies_2023.groupBy(month(\"Completion\").alias(\"Month\")).count().orderBy(\"Month\")\n",
    "\n",
    "# Plot\n",
    "monthly_data = monthly_counts.collect()\n",
    "months, counts = zip(*[(row['Month'], row['count']) for row in monthly_data])\n",
    "\n",
    "# Using Magma palette\n",
    "norm = plt.Normalize(min(counts), max(counts))\n",
    "colors = cm.magma_r(norm(counts))\n",
    "\n",
    "plt.figure(figsize=(10, 6))\n",
    "bars = plt.bar(months, counts, color=colors)\n",
    "\n",
    "# Adding color bar for reference\n",
    "plt.colorbar(cm.ScalarMappable(norm=norm, cmap='magma_r'), label='Count Intensity')\n",
    "\n",
    "plt.xlabel('Month')\n",
    "plt.ylabel('Number of Completed Studies')\n",
    "plt.title('Completed Studies per Month in 2023')\n",
    "plt.xticks(months)\n",
    "plt.show()"
   ]
  },
  {
   "cell_type": "code",
   "execution_count": 0,
   "metadata": {
    "application/vnd.databricks.v1+cell": {
     "cellMetadata": {
      "byteLimit": 2048000,
      "rowLimit": 10000
     },
     "inputWidgets": {},
     "nuid": "367103ff-f96d-4c69-9d37-609b71057191",
     "showTitle": false,
     "title": ""
    }
   },
   "outputs": [
    {
     "output_type": "stream",
     "name": "stdout",
     "output_type": "stream",
     "text": [
      "+-----+-----+\n|Month|count|\n+-----+-----+\n|    1| 1494|\n|    2| 1272|\n|    3| 1552|\n|    4| 1324|\n|    5| 1415|\n|    6| 1619|\n|    7| 1360|\n|    8| 1230|\n|    9| 1152|\n|   10| 1058|\n|   11|  909|\n|   12| 1082|\n+-----+-----+\n\n"
     ]
    }
   ],
   "source": [
    "# Display table of values\n",
    "monthly_counts.show()"
   ]
  },
  {
   "cell_type": "markdown",
   "metadata": {
    "application/vnd.databricks.v1+cell": {
     "cellMetadata": {
      "byteLimit": 2048000,
      "rowLimit": 10000
     },
     "inputWidgets": {},
     "nuid": "41776e81-3ce4-4e8d-8be6-a33129b26e1c",
     "showTitle": false,
     "title": ""
    }
   },
   "source": [
    "### No. 6(b)"
   ]
  },
  {
   "cell_type": "code",
   "execution_count": 0,
   "metadata": {
    "application/vnd.databricks.v1+cell": {
     "cellMetadata": {
      "byteLimit": 2048000,
      "rowLimit": 10000
     },
     "inputWidgets": {},
     "nuid": "fcf4df36-71d8-48c2-a1b6-68a6dd230df0",
     "showTitle": false,
     "title": ""
    }
   },
   "outputs": [
    {
     "output_type": "stream",
     "name": "stdout",
     "output_type": "stream",
     "text": [
      "+----+------------------+\n|Year|     avg(Duration)|\n+----+------------------+\n|1916|           38562.0|\n|1917|             364.0|\n|1963|           21775.0|\n|1968|           18536.0|\n|1972|           16695.0|\n|1973|           18261.5|\n|1975|           14579.0|\n|1976|            8943.5|\n|1977|           14009.5|\n|1979|           14647.0|\n|1980|           10207.0|\n|1981|            7987.5|\n|1983| 8525.333333333334|\n|1984|         15237.125|\n|1985|           11412.5|\n|1986|           12107.5|\n|1987| 9196.333333333334|\n|1988|10676.666666666666|\n|1989| 9005.666666666666|\n|1990| 9434.333333333334|\n+----+------------------+\nonly showing top 20 rows\n\n"
     ]
    }
   ],
   "source": [
    "from pyspark.sql.functions import to_date, year, datediff\n",
    "\n",
    "# Assuming 'Cleaned_Clinical_df' is your DataFrame with 'Start' and 'Completion' columns as strings\n",
    "# Convert 'Start' and 'Completion' to date types\n",
    "Cleaned_Clinical_df = Cleaned_Clinical_df.withColumn(\"Start\", to_date(\"Start\", \"yyyy-MM-dd\")) \\\n",
    "                         .withColumn(\"Completion\", to_date(\"Completion\", \"yyyy-MM-dd\"))\n",
    "\n",
    "# Calculate duration in days and extract start year\n",
    "Cleaned_Clinical_df = Cleaned_Clinical_df.withColumn(\"Duration\", datediff(\"Completion\", \"Start\")) \\\n",
    "                         .withColumn(\"Year\", year(\"Start\"))\n",
    "\n",
    "# Filter out rows where either date is null or Duration is negative\n",
    "Cleaned_Clinical_df = Cleaned_Clinical_df.filter((Cleaned_Clinical_df.Duration >= 0) & (Cleaned_Clinical_df.Year.isNotNull()))\n",
    "\n",
    "# Calculate average duration by year\n",
    "avg_duration_df = Cleaned_Clinical_df.groupBy(\"Year\").avg(\"Duration\").orderBy(\"Year\")\n",
    "\n",
    "# Show the DataFrame to verify\n",
    "avg_duration_df.show()"
   ]
  },
  {
   "cell_type": "code",
   "execution_count": 0,
   "metadata": {
    "application/vnd.databricks.v1+cell": {
     "cellMetadata": {
      "byteLimit": 2048000,
      "rowLimit": 10000
     },
     "inputWidgets": {},
     "nuid": "35b15fa4-aa00-4598-8c4a-855f0e73d4bb",
     "showTitle": false,
     "title": ""
    }
   },
   "outputs": [
    {
     "output_type": "display_data",
     "data": {
      "image/png": "[encoded data removed]"
     },
     "metadata": {
      "application/vnd.databricks.v1+output": {
       "addedWidgets": {},
       "arguments": {},
       "data": "data:image/png;base64,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\n",
       "datasetInfos": [],
       "metadata": {},
       "removedWidgets": [],
       "type": "image"
      }
     },
     "output_type": "display_data"
    }
   ],
   "source": [
    "# Convert Spark DataFrame to Pandas DataFrame for plotting\n",
    "pd_avg_duration = avg_duration_df.toPandas()\n",
    "\n",
    "# Using Seaborn to plot with a regression line\n",
    "plt.figure(figsize=(10, 6))\n",
    "sns.regplot(x='Year', y='avg(Duration)', data=pd_avg_duration, scatter_kws={'color': 'purple', 'alpha': 0.6}, line_kws={'color': 'red', 'linestyle': '--'})\n",
    "\n",
    "plt.title('Average Duration of Clinical Trials Over Time')\n",
    "plt.xlabel('Year')\n",
    "plt.ylabel('Average Duration (days)')\n",
    "plt.grid(True, which='both', linestyle='--', linewidth=0.5)\n",
    "\n",
    "plt.show()"
   ]
  },
  {
   "cell_type": "code",
   "execution_count": 0,
   "metadata": {
    "application/vnd.databricks.v1+cell": {
     "cellMetadata": {
      "byteLimit": 2048000,
      "rowLimit": 10000
     },
     "inputWidgets": {},
     "nuid": "0ac9a22f-f56e-4e36-a26c-a2e27649d002",
     "showTitle": false,
     "title": ""
    }
   },
   "outputs": [],
   "source": []
  },
  {
   "cell_type": "markdown",
   "metadata": {
    "application/vnd.databricks.v1+cell": {
     "cellMetadata": {
      "byteLimit": 2048000,
      "rowLimit": 10000
     },
     "inputWidgets": {},
     "nuid": "286c9cac-1ef4-4bbc-ac20-bf8feb83b268",
     "showTitle": false,
     "title": ""
    }
   },
   "source": [
    "### Extra Features"
   ]
  },
  {
   "cell_type": "markdown",
   "metadata": {
    "application/vnd.databricks.v1+cell": {
     "cellMetadata": {
      "byteLimit": 2048000,
      "rowLimit": 10000
     },
     "inputWidgets": {},
     "nuid": "51c43005-6937-4d74-b47f-8d18c4de7a00",
     "showTitle": false,
     "title": ""
    }
   },
   "source": [
    "### Resuasble Code for 2020 & 2023\n",
    "###### This series of codes and functions below can load, clean and analyze data for any year inputed (I.e 2020 or 2021)"
   ]
  },
  {
   "cell_type": "code",
   "execution_count": 0,
   "metadata": {
    "application/vnd.databricks.v1+cell": {
     "cellMetadata": {
      "byteLimit": 2048000,
      "rowLimit": 10000
     },
     "inputWidgets": {},
     "nuid": "7cb3f66b-2138-4dce-af0d-e2d8f127a5d3",
     "showTitle": false,
     "title": ""
    }
   },
   "outputs": [],
   "source": [
    "# Define the configuration for dataset loading based on year\n",
    "def get_dataset_config(year):\n",
    "    dataset_configs = {\n",
    "        '2020': {'delimiter': '|', 'remove_quotes': True, 'fill_missing': True},\n",
    "        '2021': {'delimiter': '|', 'remove_quotes': True, 'fill_missing': True},\n",
    "    }\n",
    "    return dataset_configs.get(str(year), {})"
   ]
  },
  {
   "cell_type": "code",
   "execution_count": 0,
   "metadata": {
    "application/vnd.databricks.v1+cell": {
     "cellMetadata": {
      "byteLimit": 2048000,
      "rowLimit": 10000
     },
     "inputWidgets": {},
     "nuid": "06e64b82-ac78-417f-894c-9582fd967f86",
     "showTitle": false,
     "title": ""
    }
   },
   "outputs": [],
   "source": [
    "# DataFrame Load and clean data function\n",
    "def load_and_clean_data(file_path, config):\n",
    "    clinical_data = spark.read.option(\"header\", \"true\") \\\n",
    "                              .option(\"delimiter\", config['delimiter']) \\\n",
    "                              .option(\"quote\", '\"' if config['remove_quotes'] else \"\") \\\n",
    "                              .csv(file_path)\n",
    "    \n",
    "    if config['fill_missing']:\n",
    "        for column in clinical_data.columns:\n",
    "            clinical_data = clinical_data.withColumn(column, when(col(column).isNull() | (col(column) == \"\"), lit(\"NA\")).otherwise(col(column)))\n",
    "    \n",
    "    return clinical_data"
   ]
  },
  {
   "cell_type": "code",
   "execution_count": 0,
   "metadata": {
    "application/vnd.databricks.v1+cell": {
     "cellMetadata": {
      "byteLimit": 2048000,
      "rowLimit": 10000
     },
     "inputWidgets": {},
     "nuid": "ada5fcb6-07ae-45b0-b2e3-17eb6314f6ee",
     "showTitle": false,
     "title": ""
    }
   },
   "outputs": [],
   "source": [
    "# Function to load and prepare pharma_df\n",
    "def load_and_prepare_pharma_data():\n",
    "    file_path = \"/FileStore/tables/pharma.csv\"\n",
    "    config = {\n",
    "        'delimiter': ',',\n",
    "        'remove_quotes': True,\n",
    "        'fill_missing': True\n",
    "    }\n",
    "    pharma_df = spark.read.option(\"header\", \"true\") \\\n",
    "                          .option(\"delimiter\", config['delimiter']) \\\n",
    "                          .option(\"quote\", '\"' if config['remove_quotes'] else \"\") \\\n",
    "                          .csv(file_path)\n",
    "    \n",
    "    if config['fill_missing']:\n",
    "        for column in pharma_df.columns:\n",
    "            pharma_df = pharma_df.withColumn(column, when(col(column).isNull() | (col(column) == \"\"), lit(\"NA\")).otherwise(col(column)))\n",
    "    \n",
    "    return pharma_df\n",
    "\n",
    "# Load and prepare pharma_df\n",
    "pharma_df = load_and_prepare_pharma_data()"
   ]
  },
  {
   "cell_type": "code",
   "execution_count": 0,
   "metadata": {
    "application/vnd.databricks.v1+cell": {
     "cellMetadata": {
      "byteLimit": 2048000,
      "rowLimit": 10000
     },
     "inputWidgets": {},
     "nuid": "d54445f3-f46d-4998-b413-601b9ac721b4",
     "showTitle": false,
     "title": ""
    }
   },
   "outputs": [],
   "source": [
    "# Global variables\n",
    "year_global = None\n",
    "df = None"
   ]
  },
  {
   "cell_type": "code",
   "execution_count": 0,
   "metadata": {
    "application/vnd.databricks.v1+cell": {
     "cellMetadata": {
      "byteLimit": 2048000,
      "rowLimit": 10000
     },
     "inputWidgets": {},
     "nuid": "3e11586d-8757-489f-8c1f-d9ebfb314a2f",
     "showTitle": false,
     "title": ""
    }
   },
   "outputs": [],
   "source": [
    "# Function to load data based on input year\n",
    "def process_clinical_trials_data_with_input():\n",
    "    global year_global, df\n",
    "    available_years = ['2020', '2021']\n",
    "    year_global = input(\"Input clinical trial year (available years are 2020, 2021): \")\n",
    "    if year_global in available_years:\n",
    "        config = get_dataset_config(year_global)\n",
    "        file_path = f\"/FileStore/tables/clinicaltrial_{year_global}.csv\"\n",
    "        df = load_and_clean_data(file_path, config)\n",
    "    else:\n",
    "        print(f\"The year {year_global} is not available. Please choose from {', '.join(available_years)}.\")"
   ]
  },
  {
   "cell_type": "code",
   "execution_count": 0,
   "metadata": {
    "application/vnd.databricks.v1+cell": {
     "cellMetadata": {
      "byteLimit": 2048000,
      "rowLimit": 10000
     },
     "inputWidgets": {},
     "nuid": "c6c8d3db-8521-4574-a62d-5b784b94e479",
     "showTitle": false,
     "title": ""
    }
   },
   "outputs": [],
   "source": [
    "# Analysis functions\n",
    "def analysis_1_number_of_studies():\n",
    "    if df is not None:\n",
    "        distinct_studies_count = df.select(\"Id\").distinct().count()\n",
    "        print(f\"Number of distinct studies for {year_global}: {distinct_studies_count}\")\n",
    "    else:\n",
    "        print(\"Data not loaded. Please run the data loading cell correctly.\")\n",
    "\n",
    "def analysis_2_study_type_frequencies():\n",
    "    if df is not None:\n",
    "        type_frequencies = df.groupBy(\"Type\").count().orderBy(\"count\", ascending=False)\n",
    "        print(f\"Study Type Frequencies for {year_global}:\")\n",
    "        type_frequencies.show()\n",
    "    else:\n",
    "        print(\"Data not loaded. Please run the data loading cell correctly.\")\n",
    "\n",
    "def analysis_3_top_conditions():\n",
    "    if df is not None:\n",
    "        top_conditions = df.withColumn(\"Condition\", explode(split(col(\"Conditions\"), \",\"))) \\\n",
    "                            .filter(col(\"Condition\") != 'NA') \\\n",
    "                            .groupBy(\"Condition\") \\\n",
    "                            .count() \\\n",
    "                            .orderBy(col(\"count\").desc()) \\\n",
    "                            .limit(5)\n",
    "        print(f\"Top 5 Conditions (excluding 'NA') for {year_global}:\")\n",
    "        top_conditions.show()\n",
    "    else:\n",
    "        print(\"Data not loaded. Please run the data loading cell correctly.\")\n",
    "\n",
    "def analysis_4_top_non_pharma_sponsors():\n",
    "    if df is not None and pharma_df is not None:\n",
    "        pharma_companies_list = [row[\"Parent_Company\"] for row in pharma_df.select(\"Parent_Company\").distinct().collect()]\n",
    "        non_pharma_df = df.filter(~col(\"Sponsor\").isin(pharma_companies_list))\n",
    "        top_10_sponsors = non_pharma_df.groupBy(\"Sponsor\").count().orderBy(\"count\", ascending=False).limit(10)\n",
    "        print(f\"Top 10 Non-Pharmaceutical Sponsors for {year_global}:\")\n",
    "        top_10_sponsors.show()\n",
    "    else:\n",
    "        print(\"Data not loaded or pharmaceutical data missing. Please run the data loading cells correctly.\")"
   ]
  },
  {
   "cell_type": "code",
   "execution_count": 0,
   "metadata": {
    "application/vnd.databricks.v1+cell": {
     "cellMetadata": {
      "byteLimit": 2048000,
      "rowLimit": 10000
     },
     "inputWidgets": {},
     "nuid": "e086fdf6-d936-4d5b-929e-d8d7813676e7",
     "showTitle": false,
     "title": ""
    }
   },
   "outputs": [],
   "source": [
    "def analysis_5_completed_studies_by_month():\n",
    "    global df, year_global  # Use global variables for DataFrame and year\n",
    "    if df is not None:\n",
    "        # Combine filtering and month extraction into one line\n",
    "        completed_studies = df.filter((col(\"Status\") == \"Completed\") & col(\"Completion\").endswith(year_global)) \\\n",
    "                              .withColumn(\"Month\", month(to_date(col(\"Completion\"), \"MMM yyyy\"))) \\\n",
    "                              .groupBy(\"Month\").count().orderBy(\"Month\")\n",
    "        \n",
    "        completed_count = completed_studies.count()  # Compute count once\n",
    "\n",
    "        # Check if there are completed studies and plot results\n",
    "        if completed_count > 0:\n",
    "            # Convert to Pandas for plotting\n",
    "            pd_completed_studies = completed_studies.toPandas()\n",
    "            pd_completed_studies['MonthName'] = pd_completed_studies['Month'].apply(lambda x: datetime(1900, x, 1).strftime('%B'))\n",
    "            \n",
    "            # Plotting directly\n",
    "            plt.figure(figsize=(10, 6))\n",
    "            plt.bar(pd_completed_studies['MonthName'], pd_completed_studies['count'], color='skyblue')\n",
    "            plt.xlabel('Month')\n",
    "            plt.ylabel('Number of Completed Studies')\n",
    "            plt.title(f'Completed Studies per Month in {year_global}')\n",
    "            plt.xticks(rotation=45)\n",
    "            plt.show()\n",
    "\n",
    "            # Display the DataFrame after plotting\n",
    "            print(\"\\nCompleted Studies per Month:\")\n",
    "            completed_studies.show()  # This shows the Spark DataFrame in tabular form\n",
    "        else:\n",
    "            print(f\"No completed studies found for the year {year_global}.\")\n",
    "    else:\n",
    "        print(\"Data not loaded. Please run the data loading cell correctly.\")"
   ]
  },
  {
   "cell_type": "code",
   "execution_count": 0,
   "metadata": {
    "application/vnd.databricks.v1+cell": {
     "cellMetadata": {
      "byteLimit": 2048000,
      "rowLimit": 10000
     },
     "inputWidgets": {},
     "nuid": "83a87afc-3161-401f-9b7e-1e6bc5501fb9",
     "showTitle": false,
     "title": ""
    }
   },
   "outputs": [
    {
     "output_type": "display_data",
     "data": {
      "text/plain": [
       "Input clinical trial year (available years are 2020, 2021):  2020"
      ]
     },
     "metadata": {},
     "output_type": "display_data"
    }
   ],
   "source": [
    "# Calling the function to insert a year of interest\n",
    "# Insert a year \"2020 or 2021\"\n",
    "process_clinical_trials_data_with_input()"
   ]
  },
  {
   "cell_type": "code",
   "execution_count": 0,
   "metadata": {
    "application/vnd.databricks.v1+cell": {
     "cellMetadata": {
      "byteLimit": 2048000,
      "rowLimit": 10000
     },
     "inputWidgets": {},
     "nuid": "11efbd6f-2fd7-4301-aaf8-3ceed1bff832",
     "showTitle": false,
     "title": ""
    }
   },
   "outputs": [
    {
     "output_type": "stream",
     "name": "stdout",
     "output_type": "stream",
     "text": [
      "Number of distinct studies for 2020: 356466\n"
     ]
    }
   ],
   "source": [
    "analysis_1_number_of_studies()"
   ]
  },
  {
   "cell_type": "code",
   "execution_count": 0,
   "metadata": {
    "application/vnd.databricks.v1+cell": {
     "cellMetadata": {
      "byteLimit": 2048000,
      "rowLimit": 10000
     },
     "inputWidgets": {},
     "nuid": "2c4e89a1-2211-48f3-a411-6d550b12bfbf",
     "showTitle": false,
     "title": ""
    }
   },
   "outputs": [
    {
     "output_type": "stream",
     "name": "stdout",
     "output_type": "stream",
     "text": [
      "Study Type Frequencies for 2020:\n+--------------------+------+\n|                Type| count|\n+--------------------+------+\n|      Interventional|277631|\n|       Observational| 71434|\n|Observational [Pa...|  7332|\n|     Expanded Access|    69|\n+--------------------+------+\n\n"
     ]
    }
   ],
   "source": [
    "analysis_2_study_type_frequencies()"
   ]
  },
  {
   "cell_type": "code",
   "execution_count": 0,
   "metadata": {
    "application/vnd.databricks.v1+cell": {
     "cellMetadata": {
      "byteLimit": 2048000,
      "rowLimit": 10000
     },
     "inputWidgets": {},
     "nuid": "f08f3389-74b1-4a78-a960-ddeb08276391",
     "showTitle": false,
     "title": ""
    }
   },
   "outputs": [
    {
     "output_type": "stream",
     "name": "stdout",
     "output_type": "stream",
     "text": [
      "Top 5 Conditions (excluding 'NA') for 2020:\n+-----------------+-----+\n|        Condition|count|\n+-----------------+-----+\n|        Carcinoma|12245|\n|Diabetes Mellitus|10425|\n|        Neoplasms| 8534|\n| Breast Neoplasms| 8009|\n|         Syndrome| 7419|\n+-----------------+-----+\n\n"
     ]
    }
   ],
   "source": [
    "analysis_3_top_conditions()"
   ]
  },
  {
   "cell_type": "code",
   "execution_count": 0,
   "metadata": {
    "application/vnd.databricks.v1+cell": {
     "cellMetadata": {
      "byteLimit": 2048000,
      "rowLimit": 10000
     },
     "inputWidgets": {},
     "nuid": "74438bf6-1d82-432c-88f3-5076c2ac4d3f",
     "showTitle": false,
     "title": ""
    }
   },
   "outputs": [
    {
     "output_type": "stream",
     "name": "stdout",
     "output_type": "stream",
     "text": [
      "Top 10 Non-Pharmaceutical Sponsors for 2020:\n+--------------------+-----+\n|             Sponsor|count|\n+--------------------+-----+\n|National Cancer I...| 3100|\n|M.D. Anderson Can...| 2238|\n|Merck Sharp & Doh...| 2184|\n|         Mayo Clinic| 2097|\n|Assistance Publiq...| 2043|\n|Novartis Pharmace...| 1962|\n|Massachusetts Gen...| 1823|\n|   Assiut University| 1806|\n|   Hoffmann-La Roche| 1761|\n|National Taiwan U...| 1720|\n+--------------------+-----+\n\n"
     ]
    }
   ],
   "source": [
    "analysis_4_top_non_pharma_sponsors()"
   ]
  },
  {
   "cell_type": "code",
   "execution_count": 0,
   "metadata": {
    "application/vnd.databricks.v1+cell": {
     "cellMetadata": {
      "byteLimit": 2048000,
      "rowLimit": 10000
     },
     "inputWidgets": {},
     "nuid": "ab75d39e-f4d5-4f22-b0df-6087b3809cd7",
     "showTitle": false,
     "title": ""
    }
   },
   "outputs": [
    {
     "output_type": "display_data",
     "data": {
      "image/png": "[encoded data removed]"
     },
     "metadata": {
      "application/vnd.databricks.v1+output": {
       "addedWidgets": {},
       "arguments": {},
       "data": "data:image/png;base64,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\n",
       "datasetInfos": [],
       "metadata": {},
       "removedWidgets": [],
       "type": "image"
      }
     },
     "output_type": "display_data"
    },
    {
     "output_type": "stream",
     "name": "stdout",
     "output_type": "stream",
     "text": [
      "\nCompleted Studies per Month:\n+-----+-----+\n|Month|count|\n+-----+-----+\n|    1| 1544|\n|    2| 1286|\n|    3| 1740|\n|    4| 1080|\n|    5| 1176|\n|    6| 1424|\n|    7| 1237|\n|    8| 1126|\n|    9| 1167|\n|   10| 1176|\n|   11| 1078|\n|   12| 2084|\n+-----+-----+\n\n"
     ]
    }
   ],
   "source": [
    "analysis_5_completed_studies_by_month()"
   ]
  }
 ],
 "metadata": {
  "application/vnd.databricks.v1+notebook": {
   "dashboards": [],
   "language": "python",
   "notebookMetadata": {
    "pythonIndentUnit": 4
   },
   "notebookName": "Nnaemeka_Ndubuisi_DF",
   "widgets": {}
  }
 },
 "nbformat": 4,
 "nbformat_minor": 0
}
